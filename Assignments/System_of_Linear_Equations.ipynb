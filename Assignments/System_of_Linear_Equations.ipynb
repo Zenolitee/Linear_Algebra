{
 "cells": [
  {
   "cell_type": "markdown",
   "id": "674ba5fa",
   "metadata": {},
   "source": [
    "**Name:** Eric Myles Panganiban<br>\n",
    "**ID:** 21103306"
   ]
  },
  {
   "cell_type": "code",
   "execution_count": 9,
   "id": "71b33b3a",
   "metadata": {},
   "outputs": [],
   "source": [
    "# Pythonic Solutions\n",
    "# the following functions are the steps involved in forward elimination\n",
    "import numpy as np\n",
    "def RowSwap(A,k,l):\n",
    "# =============================================================================\n",
    "#     A is a NumPy array.  RowSwap will return duplicate array with rows\n",
    "#     k and l swapped.\n",
    "# =============================================================================\n",
    "    m = A.shape[0]  # m is number of rows in A\n",
    "    n = A.shape[1]  # n is number of columns in A\n",
    "    \n",
    "    B = np.copy(A).astype('float64')\n",
    "        \n",
    "    for j in range(n):\n",
    "        temp = B[k][j]\n",
    "        B[k][j] = B[l][j]\n",
    "        B[l][j] = temp\n",
    "        \n",
    "    return B\n",
    "\n",
    "def RowScale(A,k,scale):\n",
    "# =============================================================================\n",
    "#     A is a NumPy array.  RowScale will return duplicate array with the\n",
    "#     entries of row k multiplied by scale.\n",
    "# =============================================================================\n",
    "    m = A.shape[0]  # m is number of rows in A\n",
    "    n = A.shape[1]  # n is number of columns in A\n",
    "    \n",
    "    B = np.copy(A).astype('float64')\n",
    "\n",
    "    for j in range(n):\n",
    "        B[k][j] *= scale\n",
    "        \n",
    "    return B\n",
    "\n",
    "def RowAdd(A,k,l,scale):\n",
    "# =============================================================================\n",
    "#     A is a numpy array.  RowAdd will return duplicate array with row\n",
    "#     l modifed.  The new values will be the old values of row l added to \n",
    "#     the values of row k, multiplied by scale.\n",
    "# =============================================================================\n",
    "    m = A.shape[0]  # m is number of rows in A\n",
    "    n = A.shape[1]  # n is number of columns in A\n",
    "    \n",
    "    B = np.copy(A).astype('float64')\n",
    "        \n",
    "    for j in range(n):\n",
    "        B[l][j] += B[k][j]*scale\n",
    "        \n",
    "    return B"
   ]
  },
  {
   "cell_type": "markdown",
   "id": "aa6aa567",
   "metadata": {},
   "source": [
    "# <font color = red> ASSIGNMENT 1</font>\n",
    "- The above python functions are developed to automate forward elimination.\n",
    "- To complete the process of determining the solution, create a function or steps of function that will automate backward substitution."
   ]
  },
  {
   "cell_type": "markdown",
   "id": "c7afc71b",
   "metadata": {},
   "source": [
    "**Backward Substitution**"
   ]
  },
  {
   "cell_type": "code",
   "execution_count": 1,
   "id": "de2e978b",
   "metadata": {},
   "outputs": [
    {
     "name": "stdout",
     "output_type": "stream",
     "text": [
      "A1\n",
      "[[ 1. -1.  1.  3.]\n",
      " [ 0.  3.  6. 12.]\n",
      " [ 4.  2. -3. -2.]] \n",
      "\n",
      "A2\n",
      "[[  1.  -1.   1.   3.]\n",
      " [  0.   3.   6.  12.]\n",
      " [  0.   6.  -7. -14.]] \n",
      "\n",
      "A3\n",
      "[[  1.  -1.   1.   3.]\n",
      " [  0.   3.   6.  12.]\n",
      " [  0.   0. -19. -38.]] \n",
      "\n",
      "A4\n",
      "[[  1.  -1.   1.   3.]\n",
      " [  0.   1.   2.   4.]\n",
      " [  0.   0. -19. -38.]] \n",
      "\n",
      "A5\n",
      "[[ 1. -1.  1.  3.]\n",
      " [ 0.  1.  2.  4.]\n",
      " [-0. -0.  1.  2.]] \n",
      "\n",
      "x1 = 1.0\n",
      "x2 = 0.0\n",
      "x3 = 2.0\n"
     ]
    }
   ],
   "source": [
    "import numpy as np\n",
    "\n",
    "def row_swap(A, k, l):\n",
    "    \n",
    "    B = np.copy(A).astype('float64')\n",
    "    B[[k, l], :] = B[[l, k], :]\n",
    "    return B\n",
    "\n",
    "def row_scale(A, k, scale):\n",
    "   \n",
    "    B = np.copy(A).astype('float64')\n",
    "    B[k, :] *= scale\n",
    "    return B\n",
    "\n",
    "def row_add(A, k, l, scale):\n",
    "   \n",
    "    B = np.copy(A).astype('float64')\n",
    "    B[l, :] += B[k, :] * scale\n",
    "    return B\n",
    "\n",
    "def backward_substitution(A, b):\n",
    "   \n",
    "    n = A.shape[0]\n",
    "    x = np.zeros(n)\n",
    "\n",
    "    for i in range(n-1, -1, -1):\n",
    "        sum_ax = np.dot(A[i, i+1:], x[i+1:])\n",
    "        x[i] = (b[i] - sum_ax) / A[i, i]\n",
    "\n",
    "    return x\n",
    "\n",
    "A = np.array([[1, -1, 1, 3], [2, 1, 8, 18], [4, 2, -3, -2]])\n",
    "\n",
    "# Add -2 times row 0 to row 1\n",
    "A1 = row_add(A, 0, 1, -2)\n",
    "print(\"A1\")\n",
    "print(A1, '\\n')\n",
    "\n",
    "# Add -4 times row 0 to row 2\n",
    "A2 = row_add(A1, 0, 2, -4)\n",
    "print(\"A2\")\n",
    "print(A2, '\\n')\n",
    "\n",
    "# Add -2 times row 1 to row 2\n",
    "A3 = row_add(A2, 1, 2, -2)\n",
    "print(\"A3\")\n",
    "print(A3, '\\n')\n",
    "\n",
    "# Multiply row 1 by 1/3\n",
    "A4 = row_scale(A3, 1, 1.0/3)\n",
    "print(\"A4\")\n",
    "print(A4, '\\n')\n",
    "\n",
    "# Multiply row 2 by 1/19\n",
    "A5 = row_scale(A4, 2, 1.0/-19.)\n",
    "print(\"A5\")\n",
    "print(A5, '\\n')\n",
    "\n",
    "# Use the backward substitution to find the solutions\n",
    "solutions = backward_substitution(A5[:, :-1], A5[:, -1])\n",
    "# Print the solutions\n",
    "for i, sol in enumerate(solutions):\n",
    "    print(f\"x{i + 1} = {sol}\")\n"
   ]
  },
  {
   "cell_type": "markdown",
   "id": "36a27d22",
   "metadata": {},
   "source": [
    "# <font color = red> Assignment 2 </font>\n",
    "---\n",
    "**INSTRUCTION**\n",
    "- Use latex programming to show your manual solutions.\n",
    "- If the problem involves determining the row echelon or reduced row echelon, show both the manual and the pythonic solutions.\n",
    "- Solutions must be saved as a jupyter notebook.\n",
    "- Push your solutions to your forked github repo.\n",
    "- Note that there is some **possibility** that some ,or all, of your exam questions will be taken from these assignment.\n",
    "- The technique here is to first solve manually before writing in Latex.\n",
    "---"
   ]
  },
  {
   "cell_type": "markdown",
   "id": "c0c4b955",
   "metadata": {},
   "source": [
    "# **1. Provide reasons why each of the following equations is, or is not, a linear equation.**\n",
    "- $\\cos{\\theta}x+4y+z = \\sqrt{3}$ - **Not a linear equation** The linearity conditions are violated by both the cosine function and the term 4y.\n",
    "- $cos{x}4y+z = \\sqrt{3}$ - **Not a linear equation** The nonlinearity arises from the existence of the cosine function and the multiplication of y by 4.\n",
    "- $x^{-1}+7y+z = \\sin{(\\frac{\\pi}{2})}$ - **Not a linear equation** The presence of $x^{-1}$ and the sine function goes against the conditions of linearity.\n",
    "- $x^1+y^1+z^1=0$ - **A linear equation** This equation is linear because the variables are raised to the first power, and the coefficients are all 1."
   ]
  },
  {
   "cell_type": "markdown",
   "id": "629f6da8",
   "metadata": {},
   "source": [
    "# **2. Find the solutions to the linear equations:**\n",
    "- $2x_1+3x_2 =5$\n",
    "    - $2_{x1} = 5 - 3_{x2}$\n",
    "    - $x_1 = \\frac{5 + 3_{x2}}{2}$\n",
    "    - $3_{x2} = 5 - 2_{x1}$\n",
    "    - $x_2 = \\frac{5 - 2_{x1}}{3}$\n",
    "- $4x_1+3x_2+2x_3=1$\n",
    "    - $x_2 = s,x_3 = t$\n",
    "    - $4_{x1} + 3s + 2t = 1$\n",
    "    - $\\begin{pmatrix}\n",
    "      1 & 0 & 0 &\\bigm| & \\frac{1 - 3s - 2t}{4} \\\\\n",
    "      0 & 1 & 0 &\\bigm| & s \\\\\n",
    "      0 & 0 & 1 &\\bigm| & t \\\\\n",
    "      \\end{pmatrix}$\n",
    "- $3x-6y=0$\n",
    "    - $3x = 6y$\n",
    "    - $x = \\frac{6y}{3}$\n",
    "    - $x = 2y$\n",
    "    - $6y = 3x$\n",
    "    - $y = \\frac{3x}{6}$\n",
    "    - $y = \\frac{x}{2}$\n",
    "    - $\\begin{pmatrix}\n",
    "      1 & 0 &\\bigm| & 2s \\\\\n",
    "      0 & 1 &\\bigm| & s \\\\\n",
    "      \\end{pmatrix}$\n",
    "      <br><br>"
   ]
  },
  {
   "cell_type": "markdown",
   "id": "217c6c22",
   "metadata": {},
   "source": [
    "# **3. Solve the following systems of linear equations:**\n",
    "- $L1: x - y = 0, \\ L2: 2x + y = 3$\n",
    "\n",
    "<br>\n",
    "\n",
    "- $-2(x - y = 0)$\n",
    "- $-2x + 2y = 0$\n",
    "\n",
    "<br>\n",
    "\n",
    "- $\\frac{3y}{3} = \\frac{3}{3}$\n",
    "- $y = 1$\n",
    "\n",
    "<br>\n",
    "\n",
    "- $x - 1 = 0$\n",
    "- $x = 1$\n",
    "\n",
    "<br>\n",
    "\n",
    "- $x = 1, \\ y = 1$"
   ]
  },
  {
   "cell_type": "code",
   "execution_count": 3,
   "id": "625936b9",
   "metadata": {},
   "outputs": [
    {
     "name": "stdout",
     "output_type": "stream",
     "text": [
      "Solution:\n",
      " x = 1.0 \n",
      " y = 1.0\n"
     ]
    }
   ],
   "source": [
    "import numpy as np\n",
    "\n",
    "A, b = np.array([[1, -1], [2, 1]]), np.array([0, 3])\n",
    "solution = np.linalg.solve(A, b)\n",
    "\n",
    "print(\"Solution:\\n\", \"x =\", solution[0], \"\\n\", \"y =\", solution[1])\n"
   ]
  },
  {
   "cell_type": "markdown",
   "id": "0c3b9c20",
   "metadata": {},
   "source": [
    "- $L1: x + 5y = -1, \\ L2: -x + y = -5, \\ L3: 2x + 4y = 4$ <br><br>\n",
    " <br><br>\n",
    "$\n",
    "\\begin{pmatrix}\n",
    "    1 & 5 &\\bigm| & -1 \\\\\n",
    "    -1 & 1 &\\bigm| & -5 \\\\\n",
    "    2 & 4 &\\bigm| & 4 \\\\\n",
    "\\end{pmatrix}\n",
    "\\xrightarrow[\\text{R}_{3} - 2\\text{R}_{1}]{\\text{R}_{2} + \\text{R}_{1}}\n",
    "\\begin{pmatrix}\n",
    "    1 & 5 &\\bigm| & -1 \\\\\n",
    "    0 & 6 &\\bigm| & -6 \\\\\n",
    "    0 & -6 &\\bigm| & 6 \\\\\n",
    "\\end{pmatrix}\n",
    "\\xrightarrow[\\text{R}_{3}(\\frac{1}{6})]{\\text{R}_{2}(\\frac{1}{6})}\n",
    "\\begin{pmatrix}\n",
    "    1 & 5 &\\bigm| & -1 \\\\\n",
    "    0 & 1 &\\bigm| & -1 \\\\\n",
    "    0 & -1 &\\bigm| & 1 \\\\\n",
    "\\end{pmatrix}\n",
    "\\xrightarrow[\\text{R}_{3} + \\text{R}_{2}]{}\n",
    "\\begin{pmatrix}\n",
    "    1 & 5 &\\bigm| & -1 \\\\\n",
    "    0 & 1 &\\bigm| & -1 \\\\\n",
    "    0 & 0 &\\bigm| & 0 \\\\\n",
    "\\end{pmatrix}\n",
    "% \\xrightarrow[\\text{R}_{1} - 5\\text{R}_{2}]{}\n",
    "% \\begin{pmatrix}\n",
    "%     1 & 0 &\\bigm| & 4 \\\\\n",
    "%     0 & 1 &\\bigm| & -1 \\\\\n",
    "%     0 & 0 &\\bigm| & 0 \\\\\n",
    "% \\end{pmatrix}\n",
    "$ \n",
    "<br><br> \n",
    "        - y = -1\n",
    "<br>\n",
    "<br>\n",
    "        - x + 5(-1) = -1\n",
    "        - x + -5 = -1\n",
    "        - x = 5 + (-1)\n",
    "        - x = 4\n",
    "        - $x = 4, \\ y = -1$"
   ]
  },
  {
   "cell_type": "code",
   "execution_count": 4,
   "id": "4649a281",
   "metadata": {},
   "outputs": [
    {
     "name": "stdout",
     "output_type": "stream",
     "text": [
      "Solution:\n",
      " x = 4.000000000000001 \n",
      " y = -0.9999999999999998\n"
     ]
    }
   ],
   "source": [
    "import numpy as np\n",
    "\n",
    "coeff_matrix, constants = np.array([[1, 5], [-1, 1], [2, 4]]), np.array([-1, -5, 4])\n",
    "solution = np.linalg.lstsq(coeff_matrix, constants, rcond=None)[0]\n",
    "\n",
    "print(\"Solution:\\n\", \"x =\", solution[0], \"\\n\", \"y =\", solution[1])\n"
   ]
  },
  {
   "cell_type": "markdown",
   "id": "d50611a6",
   "metadata": {},
   "source": [
    "- $L1: 2x_1 + 3x_2 - x_3 = -1, L2: x_1 + x_3 = 0, L3: -x_1 + 2x_2 - 2x_3  = 0$ <br><br>\n",
    "<br><br>\n",
    "$\n",
    "\\begin{pmatrix}\n",
    "    2 & 3 & -1 &\\bigm| & -1 \\\\\n",
    "    1 & 0 & 1 &\\bigm| & 0 \\\\\n",
    "    -1 & 2 & -2 &\\bigm| & 0 \\\\\n",
    "\\end{pmatrix}\n",
    "\\xrightarrow[R_2 - R_1]{\\frac{1}{2}R_1}\n",
    "\\begin{pmatrix}\n",
    "    1 & \\frac{3}{2} & \\frac{-1}{2} &\\bigm| & \\frac{-1}{2} \\\\\n",
    "    0 & \\frac{-3}{2} & \\frac{3}{2} &\\bigm| & \\frac{1}{2}\\\\\n",
    "    -1 & 2 & -2 &\\bigm| & 0 \\\\\n",
    "\\end{pmatrix}\n",
    "\\xrightarrow[\\frac{-2}{3}R_2]{R_3 - \\frac{7}{2}R_2}\n",
    "\\begin{pmatrix}\n",
    "    1 & \\frac{3}{2} & \\frac{-1}{2} &\\bigm| & \\frac{-1}{2} \\\\\n",
    "    0 & 1 & -1 &\\bigm| & \\frac{-1}{3}\\\\\n",
    "    0 & 0 & 1 &\\bigm| & \\frac{-5}{9} \\\\\n",
    "\\end{pmatrix}\n",
    "\\xrightarrow[R_1 - \\frac{3}{2}R_2]{R_1 - \\frac{1}{3}R_2}\n",
    "\\begin{pmatrix}\n",
    "    1 & 0 & 0 &\\bigm| & 0 \\\\\n",
    "    0 & 1 & -1 &\\bigm| & \\frac{-1}{3}\\\\\n",
    "    0 & 0 & 1 &\\bigm| & \\frac{-5}{9} \\\\\n",
    "\\end{pmatrix}\n",
    "$\n",
    "<br>\n",
    " <br>\n",
    "        - x_1 = 0\n",
    "        - $x_3 = -\\frac{5}{9}$\n",
    "        - $x_2 - x_3 = -\\frac{1}{3}$ \n",
    "        - $x_2 - (-\\frac{5}{9}) = -\\frac{1}{3}$\n",
    "        - $x_2 = -\\frac{1}{3} - \\frac{5}{9}$\n",
    "        - $x_2 = -\\frac{8}{9}$\n",
    "        - $x_1 = 0, x_2 = -\\frac{8}{9}, x_3 = -\\frac{5}{9}$"
   ]
  },
  {
   "cell_type": "markdown",
   "id": "9fa66aca",
   "metadata": {},
   "source": [
    "**4. Provide reasons why the given matrices are either a row echelon, a reduced row echelon, or niether both.**<br>\n",
    "---\n",
    "\n",
    "\n",
    "\n",
    "a. <br>\n",
    "\\begin{pmatrix}\n",
    "   1 & 0 & 1 \\\\\n",
    "   0 & 0 & 3 \\\\\n",
    "   0 & 1 & 0 \\\\\n",
    "\\end{pmatrix}<br><br>\n",
    "b. <br>\n",
    "\\begin{pmatrix}\n",
    "   7 & 0 & 1 & 0 \\\\\n",
    "   0 & 1 & -1 & 4 \\\\\n",
    "   0 & 0 & 0 & 0 \\\\\n",
    "\\end{pmatrix}<br><br>\n",
    "c. <br>\n",
    "\\begin{pmatrix}\n",
    "   0 & 1 & 3 & 0 \\\\\n",
    "   0 & 0 & 0 & 1 \\\\\n",
    "\\end{pmatrix}<br><br>\n",
    "d. <br>\n",
    "\\begin{pmatrix}\n",
    "   0 & 0 & 0 \\\\\n",
    "   0 & 0 & 0 \\\\\n",
    "   0 & 0 & 0 \\\\\n",
    "\\end{pmatrix}<br><br>\n",
    "e. <br>\n",
    "\\begin{pmatrix}\n",
    "   1 & 0 & 3 & -4 & 0 \\\\\n",
    "   0 & 0 & 0 & 0 & 0 \\\\\n",
    "   0 & 1 & 5 & 0 & 1 \\\\\n",
    "\\end{pmatrix}<br><br>\n",
    "f. <br>\n",
    "\\begin{pmatrix}\n",
    "   0 & 0 & 1 \\\\\n",
    "   0 & 1 & 0 \\\\\n",
    "   1 & 0 & 0 \\\\\n",
    "\\end{pmatrix}<br><br>\n",
    "g. <br>\n",
    "\\begin{pmatrix}\n",
    "   1 & 2 & 3 \\\\\n",
    "   1 & 0 & 0 \\\\\n",
    "   0 & 1 & 1 \\\\\n",
    "   0 & 0 & 1 \\\\\n",
    "\\end{pmatrix}<br><br>\n",
    "h. <br>\n",
    "\\begin{pmatrix}\n",
    "   2 & 1 & 3 & 5 \\\\\n",
    "   0 & 0 & 1 & -1 \\\\\n",
    "   0 & 0 & 0 & 3 \\\\\n",
    "   0 & 0 & 0 & 0 \\\\\n",
    "\\end{pmatrix}\n",
    "<br><br>\n"
   ]
  },
  {
   "cell_type": "markdown",
   "id": "d88a0c8a",
   "metadata": {},
   "source": [
    "a. <br>\n",
    "\\begin{pmatrix}\n",
    "   1 & 0 & 1 \\\\\n",
    "   0 & 0 & 3 \\\\\n",
    "   0 & 1 & 0 \\\\\n",
    "\\end{pmatrix}<br><br>"
   ]
  },
  {
   "cell_type": "markdown",
   "id": "812049d8",
   "metadata": {},
   "source": [
    "**Row Echelon Form**<br>\n",
    "1.) There are no zero rows.<br>\n",
    "2.) The leading entry of the second row (3) occurs to the right of the leading entry of the first row (1). Similarly, the leading entry of the third row (1) occurs to the right of the leading entry of the second row.<br>\n",
    "3.) The leading entry in the first row is 1, the leading entry in the second row is 0 (which is allowed), and the leading entry in the third row is 1."
   ]
  },
  {
   "cell_type": "markdown",
   "id": "2737c244",
   "metadata": {},
   "source": [
    "b. <br>\n",
    "\\begin{pmatrix}\n",
    "   7 & 0 & 1 & 0 \\\\\n",
    "   0 & 1 & -1 & 4 \\\\\n",
    "   0 & 0 & 0 & 0 \\\\\n",
    "\\end{pmatrix}<br><br>"
   ]
  },
  {
   "cell_type": "markdown",
   "id": "bca29256",
   "metadata": {},
   "source": [
    "**Row Echelon Form**<br>\n",
    "1.) All zero rows, if any, are at the bottom of the matrix.<br>\n",
    "2.) The leading entry of each nonzero row occurs to the right of the leading entry of the previous row.<br>\n",
    "3.) The leading entry in any nonzero row is 1."
   ]
  },
  {
   "cell_type": "markdown",
   "id": "564494f0",
   "metadata": {},
   "source": [
    "c. <br>\n",
    "\\begin{pmatrix}\n",
    "   0 & 1 & 3 & 0 \\\\\n",
    "   0 & 0 & 0 & 1 \\\\\n",
    "\\end{pmatrix}<br><br>"
   ]
  },
  {
   "cell_type": "markdown",
   "id": "b4fb0b9b",
   "metadata": {},
   "source": [
    "**Not in Row Echelon Form and as well as Reduced Row Echelon Form**<br>\n",
    "1.) The matrix fails the first condition because the leading entry in the second row (1) does not occur to the right of the leading entry in the first row (3).<br>\n",
    "2.) The matrix fails the second condition because the leading entry in the second row (1) is not the only nonzero entry in its column."
   ]
  },
  {
   "cell_type": "markdown",
   "id": "9d8fe6c8",
   "metadata": {},
   "source": [
    "d. <br>\n",
    "\\begin{pmatrix}\n",
    "   0 & 0 & 0 \\\\\n",
    "   0 & 0 & 0 \\\\\n",
    "   0 & 0 & 0 \\\\\n",
    "\\end{pmatrix}<br><br>"
   ]
  },
  {
   "cell_type": "markdown",
   "id": "48d923a0",
   "metadata": {},
   "source": [
    "**Reduced Row Echelon Form**<br>\n",
    "1.) It is in row echelon form.<br>\n",
    "2.) the leading entry in each nonzero is nonzero in its column"
   ]
  },
  {
   "cell_type": "markdown",
   "id": "95ca97d3",
   "metadata": {},
   "source": [
    "e. <br>\n",
    "\\begin{pmatrix}\n",
    "   1 & 0 & 3 & -4 & 0 \\\\\n",
    "   0 & 0 & 0 & 0 & 0 \\\\\n",
    "   0 & 1 & 5 & 0 & 1 \\\\\n",
    "\\end{pmatrix}<br><br>"
   ]
  },
  {
   "cell_type": "markdown",
   "id": "28802891",
   "metadata": {},
   "source": [
    "**Not in Row Echelon Form and as well as Reduced Row Echelon Form**<br>\n",
    "1.) It does not satisfy the conditions "
   ]
  },
  {
   "cell_type": "markdown",
   "id": "c9cffd0e",
   "metadata": {},
   "source": [
    "f. <br>\n",
    "\\begin{pmatrix}\n",
    "   0 & 0 & 1 \\\\\n",
    "   0 & 1 & 0 \\\\\n",
    "   1 & 0 & 0 \\\\\n",
    "\\end{pmatrix}<br><br>"
   ]
  },
  {
   "cell_type": "markdown",
   "id": "d2c4fdd0",
   "metadata": {},
   "source": [
    "**Reduced Row Echelon Form**<br>\n",
    "1.) The first and second rows are non-zero<br>\n",
    "2.) The leading entry of the second row (1) occurs to the right of the leading entry of the first row (1).<br>\n",
    "3.) The leading entries in the first and second rows are the only nonzero entries in their respective columns."
   ]
  },
  {
   "cell_type": "markdown",
   "id": "af562d61",
   "metadata": {},
   "source": [
    "g. <br>\n",
    "\\begin{pmatrix}\n",
    "   1 & 2 & 3 \\\\\n",
    "   1 & 0 & 0 \\\\\n",
    "   0 & 1 & 1 \\\\\n",
    "   0 & 0 & 1 \\\\\n",
    "\\end{pmatrix}<br><br>"
   ]
  },
  {
   "cell_type": "markdown",
   "id": "cf4ec42e",
   "metadata": {},
   "source": [
    "**Not in Row Echelon Form and as well as Reduced Row Echelon Form**<br>\n",
    "1.) It does not satisfy the conditions "
   ]
  },
  {
   "cell_type": "markdown",
   "id": "b4bf73bc",
   "metadata": {},
   "source": [
    "h. <br>\n",
    "\\begin{pmatrix}\n",
    "   2 & 1 & 3 & 5 \\\\\n",
    "   0 & 0 & 1 & -1 \\\\\n",
    "   0 & 0 & 0 & 3 \\\\\n",
    "   0 & 0 & 0 & 0 \\\\\n",
    "\\end{pmatrix}"
   ]
  },
  {
   "cell_type": "markdown",
   "id": "a078b8f2",
   "metadata": {},
   "source": [
    "**Not in Row Echelon Form and as well as Reduced Row Echelon Form**<br>\n",
    "1.) It does not satisfy the conditions "
   ]
  },
  {
   "cell_type": "markdown",
   "id": "f2060065",
   "metadata": {},
   "source": [
    "# **5. Solve the following systems of linear equations**"
   ]
  },
  {
   "cell_type": "markdown",
   "id": "a1ccd852",
   "metadata": {},
   "source": [
    "a.<br> \n",
    "<br>\n",
    "$\n",
    " \\begin{equation}\n",
    "    \\begin{bmatrix}\n",
    "        1 & 2 & -3| 9\\\\\n",
    "        2 & -1 & -1| 0\\\\\n",
    "        4 & -1 & 1| 4\\\\\n",
    "    \\end{bmatrix}\n",
    "    \\xrightarrow[R_2 - 2R_1]{R_3 - 2R_2}\n",
    "    \\begin{bmatrix}\n",
    "        1 & 2 & -3| 9\\\\\n",
    "        0 & -5 & 5| 18\\\\\n",
    "        0 & 1 & 3| 4\\\\\n",
    "    \\end{bmatrix}\n",
    "    \\xrightarrow[R_3 - R_2]{\\frac{-1}{5}R_2}   \n",
    "    \\begin{bmatrix}\n",
    "        1 & 2 & -3| 9\\\\\n",
    "        0 & 1 & -1| \\frac{18}{5}\\\\\n",
    "        0 & 0 & 4| \\frac{1}{4}R_3\\\\\n",
    "    \\end{bmatrix}\n",
    "    \\xrightarrow[R_1 - 2R_2]{R_2 + R_3}   \n",
    "    \\begin{bmatrix}\n",
    "        1 & 0 & -3| \\frac{8}{5}\\\\\n",
    "        0 & 1 & 0| \\frac{37}{10}\\\\\n",
    "        0 & 0 & 1| \\frac{1}{10}R_3\\\\\n",
    "    \\end{bmatrix}   \n",
    "    \\xrightarrow[]{R_1 + 3R_3} \n",
    "    \\begin{bmatrix}\n",
    "        1 & 0 & 0| \\frac{19}{10}\\\\\n",
    "        0 & 1 & 0| \\frac{37}{10}\\\\\n",
    "        0 & 0 & 1| \\frac{1}{10}R_3\\\\\n",
    "    \\end{bmatrix}      \n",
    "\\end{equation}\n",
    "$\n",
    "<br>\n",
    "- $x_1 = \\frac{19}{10}$<br>\n",
    "- $x_2 = \\frac{37}{10}$<br>\n",
    "- $x_3 = \\frac{1}{10}$<br>\n",
    "- $2x_1 - x_2 - x_3 = 0$<br>\n",
    "- $\\frac{19}{5} - \\frac{37}{10} - \\frac{1}{10} = 0$<br>"
   ]
  },
  {
   "cell_type": "code",
   "execution_count": 5,
   "id": "e393c469",
   "metadata": {},
   "outputs": [
    {
     "name": "stdout",
     "output_type": "stream",
     "text": [
      "x1 = 1.9\n",
      "x2 = 3.6999999999999997\n",
      "x3 = 0.10000000000000003\n"
     ]
    }
   ],
   "source": [
    "import numpy as np\n",
    "\n",
    "A = np.array([[1, 2, -3],\n",
    "              [2, -1, -1],\n",
    "              [4, -1, 1]])\n",
    "\n",
    "b = np.array([9, 0, 4])\n",
    "\n",
    "solution = np.linalg.solve(A, b)\n",
    "\n",
    "for i, x in enumerate(solution, start=1):\n",
    "    print(f\"x{i} = {x}\")\n"
   ]
  },
  {
   "cell_type": "markdown",
   "id": "9c5d5bf5",
   "metadata": {},
   "source": [
    "b. <br>\n",
    "<br>\n",
    "$\n",
    " \\begin{equation}\n",
    "    \\begin{bmatrix}\n",
    "        1 & 2 & 0| -1\\\\\n",
    "        2 & 1 & 1| 1\\\\\n",
    "        -1 & 1 & -1| -1\\\\\n",
    "    \\end{bmatrix}\n",
    "    \\xrightarrow[R_3 + R_2]{\\frac{1}{2}R_2}\n",
    "    \\begin{bmatrix}\n",
    "        1 & 2 & 0| -1\\\\\n",
    "        0 & \\frac{1}{2} & \\frac{1}{2}| \\frac{1}{2}\\\\\n",
    "        0 & \\frac{3}{2} & \\frac{-1}{2}| \\frac{-1}{2}\\\\\n",
    "    \\end{bmatrix}\n",
    "    \\xrightarrow[R_3 - R_2]{\\frac{-1}{5}R_2}   \n",
    "    \\begin{bmatrix}\n",
    "        1 & 2 & -3| 9\\\\\n",
    "        0 & 1 & -1| \\frac{18}{5}\\\\\n",
    "        0 & 0 & 4| \\frac{1}{4}R_3\\\\\n",
    "    \\end{bmatrix}\n",
    "    \\xrightarrow[R_3 + R_2]{R_2 - R_1}   \n",
    "    \\begin{bmatrix}\n",
    "        1 & 0 & -3| \\frac{8}{5}\\\\\n",
    "        0 & 1 & 0| \\frac{37}{10}\\\\\n",
    "        0 & 0 & 1| \\frac{1}{10}R_3\\\\\n",
    "    \\end{bmatrix}   \n",
    "\\end{equation}\n",
    "$\n",
    "- 0 + 0 + 0 cannot be equal to one"
   ]
  },
  {
   "cell_type": "code",
   "execution_count": 6,
   "id": "ab28a79b",
   "metadata": {},
   "outputs": [
    {
     "name": "stdout",
     "output_type": "stream",
     "text": [
      "No solution\n"
     ]
    }
   ],
   "source": [
    "import numpy as np\n",
    "\n",
    "M = np.array([[1, 2, 0],\n",
    "              [2, 1, 1],\n",
    "              [-1, 1, -1]])\n",
    "\n",
    "if np.linalg.det(M) == 0:\n",
    "    print(\"No solution\")\n",
    "else:\n",
    "    print(\"Determinant of M:\", np.linalg.det(M))\n"
   ]
  },
  {
   "cell_type": "markdown",
   "id": "ec2a2237",
   "metadata": {},
   "source": [
    "c. <br>\n",
    "<br>\n",
    "$\n",
    " \\begin{equation}\n",
    "    \\begin{bmatrix}\n",
    "        1 & -3 & 2| 0\\\\\n",
    "        1 & 2 & 1| 0\\\\\n",
    "        2 & 4 & 6| 0\\\\\n",
    "    \\end{bmatrix}\n",
    "\\end{equation}\n",
    "$\n",
    "- x_1 = 0, x_2 = 0, x_3 = 0\n",
    "- x_1 - 3x_2 - 2x_3 = 0 \n",
    "- 0 - 3(0) - 2(0) = 0\n",
    "- 0\n",
    "- x_1 + 2x_2 + x_3 = 0\n",
    "- 0 + 2(0) + 0 = 0\n",
    "- 0\n",
    "- 2x_1 + 4x_2 + 6x_3 = 0\n",
    "- 2(0) + 4(0) + 6(0) = 0\n",
    "- 0"
   ]
  },
  {
   "cell_type": "markdown",
   "id": "2ecc0ce1",
   "metadata": {},
   "source": [
    "d. <br>\n",
    "<br>\n",
    "$\n",
    " \\begin{equation}\n",
    "    \\begin{bmatrix}\n",
    "        1 & 1 & 2 & 1| 1\\\\\n",
    "        1 & -1 & -1 & 1| 0\\\\\n",
    "        0 & 1 & 1 & 0| 1\\\\\n",
    "        1 & 1 & 0 & 1| 2\\\\\n",
    "    \\end{bmatrix}\n",
    "    \\xrightarrow[R_4 - R_1]{R_2 - R_1}\n",
    "    \\begin{bmatrix}\n",
    "        1 & 1 & 2 & 1| 1\\\\\n",
    "        0 & -2 & -3 & 0| 1\\\\\n",
    "        0 & 1 & 1 & 0| 1\\\\\n",
    "        0 & 0 & -2 & 1| 1\\\\\n",
    "    \\end{bmatrix}\n",
    "    \\xrightarrow[R_3 + 2R_2]{R_2 <-> R_3}   \n",
    "    \\begin{bmatrix}\n",
    "        1 & 1 & 2 & 1| 1\\\\\n",
    "        0 & 1 & 1 & 0| 1\\\\\n",
    "        0 & 0 & -1 & 0| 3\\\\\n",
    "        0 & 0 & -2 & 1| 1\\\\\n",
    "    \\end{bmatrix}\n",
    "\\end{equation}\n",
    "$\n",
    "- y cannot be both 3 and $\\frac{1}{-2}$, so there is no unique solution"
   ]
  },
  {
   "cell_type": "code",
   "execution_count": 7,
   "id": "836c4c6d",
   "metadata": {},
   "outputs": [
    {
     "name": "stdout",
     "output_type": "stream",
     "text": [
      "Solution exists\n"
     ]
    }
   ],
   "source": [
    "import numpy as np\n",
    "\n",
    "M = np.array([[1, 1, 2, 1],\n",
    "              [1, -1, -1, 1],\n",
    "              [0, 1, 1, 0],\n",
    "              [1, 1, 0, 1]])\n",
    "\n",
    "if np.linalg.det(M) == 0:\n",
    "    print(\"Solution exists\")\n",
    "else:\n",
    "    print(\"Determinant of M:\", np.linalg.det(M))\n"
   ]
  },
  {
   "cell_type": "markdown",
   "id": "cde6b210",
   "metadata": {},
   "source": [
    "# **6. Determine if the vectors are linear combinations**<br>"
   ]
  },
  {
   "cell_type": "markdown",
   "id": "1accea98",
   "metadata": {},
   "source": [
    "a. <br>\n",
    "$\n",
    " \\begin{equation}\n",
    "    \\textbf{v} = \\begin{bmatrix} 1 \\\\ 2 \\end{bmatrix} \\ \n",
    "    \\textbf{u}_2 = \\begin{bmatrix} -1 \\\\ 3 \\end{bmatrix}\\\n",
    "    \\textbf{u}_3 = \\begin{bmatrix} 2 \\\\ -6 \\end{bmatrix}\\\\\n",
    "\\end{equation}\n",
    "$\n",
    "<br>\n",
    "$\n",
    "\\begin{equation}\n",
    "    \\begin{bmatrix} 1 \\\\ 2 \\end{bmatrix}x +\n",
    "    \\begin{bmatrix} -1 \\\\ 3 \\end{bmatrix}y =\n",
    "    \\begin{bmatrix} 2 \\\\ -6 \\end{bmatrix}\n",
    "\\end{equation}\n",
    "$\n",
    "<br>\n",
    "<br>\n",
    "$\n",
    "\\begin{equation}\n",
    "    \\begin{bmatrix}\n",
    "        -1 & 2 & 1 \\\\\n",
    "        3 & -6 & 2\n",
    "    \\end{bmatrix}\n",
    "    \\xrightarrow[]{\\text{R}_{2} + 3\\text{R}_{1}}\n",
    "    \\begin{bmatrix}\n",
    "        -1 & 2 & 1 \\\\\n",
    "        0 & 0 & 5\n",
    "    \\end{bmatrix}\n",
    "\\end{equation}\n",
    "$\n",
    "<br>\n",
    "<br>- <font color=red>Not</font> a linear combination.<br>"
   ]
  },
  {
   "cell_type": "code",
   "execution_count": 8,
   "id": "3d8f7c3b",
   "metadata": {},
   "outputs": [
    {
     "name": "stdout",
     "output_type": "stream",
     "text": [
      "Vectors are linearly independent.\n"
     ]
    }
   ],
   "source": [
    "import numpy as np\n",
    "\n",
    "v = np.array([1, 2])\n",
    "u2 = np.array([-1, 3])\n",
    "u3 = np.array([2, -6])\n",
    "\n",
    "coeff_matrix = np.vstack((u2, u3)).T\n",
    "constants = v\n",
    "\n",
    "if np.linalg.matrix_rank(coeff_matrix) == np.linalg.matrix_rank(np.column_stack((coeff_matrix, constants))):\n",
    "    print(\"Vectors are Linearly Dependent!\")\n",
    "else:\n",
    "    print(\"Vectors are Linearly Independent!\")\n"
   ]
  },
  {
   "cell_type": "markdown",
   "id": "714eba4b",
   "metadata": {},
   "source": [
    "b. <br>\n",
    "$\n",
    " \\begin{equation}\n",
    "    \\textbf{v} = \\begin{bmatrix} 1 \\\\ 2 \\\\ 3 \\end{bmatrix} \\ \n",
    "    \\textbf{u}_2 = \\begin{bmatrix} 1 \\\\ 1 \\\\ 0 \\end{bmatrix}\\\n",
    "    \\textbf{u}_3 = \\begin{bmatrix} 0 \\\\ 1 \\\\ 1 \\end{bmatrix}\\\\\n",
    "\\end{equation}\n",
    "$\n",
    "<br>\n",
    "$\n",
    " \\begin{equation}\n",
    "    \\begin{bmatrix}\n",
    "        1 & 0 | 1\\\\\n",
    "        1 & 1 | 2\\\\\n",
    "        0 & 1 | 3\\\\\n",
    "    \\end{bmatrix}\n",
    "    \\xrightarrow[]{R_2 - x + 2_y = -12_x + y + z = 1 - x + y - z = -1}\n",
    "    \\begin{bmatrix}\n",
    "        1 & 0 | 1\\\\\n",
    "        1 & 1 | 1\\\\\n",
    "        0 & 1 | 3\\\\\n",
    "    \\end{bmatrix}\n",
    "    \\xrightarrow[]{R_3 - R_2}   \n",
    "    \\begin{bmatrix}\n",
    "        1 & 0 | 1\\\\\n",
    "        0 & 1 | 1\\\\\n",
    "        0 & 0 | 2\\\\\n",
    "    \\end{bmatrix}\n",
    "\\end{equation}\n",
    "$\n",
    "<br>- <font color=red>Not</font> a linear combination.<br>"
   ]
  },
  {
   "cell_type": "code",
   "execution_count": 9,
   "id": "ea1d0468",
   "metadata": {},
   "outputs": [
    {
     "name": "stdout",
     "output_type": "stream",
     "text": [
      "The vector is not a linear combination.\n"
     ]
    }
   ],
   "source": [
    "import numpy as np\n",
    "\n",
    "# Define the vectors\n",
    "v = np.array([1, 2, 3])\n",
    "u2 = np.array([1, 1, 0])\n",
    "u3 = np.array([0, 1, 1])\n",
    "\n",
    "# Create the coefficient matrix and the constant vector\n",
    "coeff_matrix = np.vstack((u2, u3)).T\n",
    "constants = v\n",
    "\n",
    "# Check if there is a solution\n",
    "if np.linalg.matrix_rank(coeff_matrix) == np.linalg.matrix_rank(np.column_stack((coeff_matrix, constants))):\n",
    "    print(\"Vector is a Linear Combination!\")\n",
    "else:\n",
    "    print(\"Vector isn't a Linear Combination!\")"
   ]
  },
  {
   "cell_type": "markdown",
   "id": "841bf771",
   "metadata": {},
   "source": [
    "c. <br>\n",
    "$\n",
    " \\begin{equation}\n",
    "    \\textbf{v} = \\begin{bmatrix} 3 \\\\ 1 \\\\ -2 \\end{bmatrix} \\ \n",
    "    \\textbf{u}_2 = \\begin{bmatrix} 1 \\\\ 1 \\\\ 0 \\end{bmatrix}\\\n",
    "    \\textbf{u}_3 = \\begin{bmatrix} 0 \\\\ 1 \\\\ 1 \\end{bmatrix}\\\\\n",
    "\\end{equation}\n",
    "$\n",
    "<br>\n",
    "$\n",
    "\\begin{equation}\n",
    "    \\begin{bmatrix} 1 \\\\ 1 \\\\ 0\\end{bmatrix}x +\n",
    "    \\begin{bmatrix} 0 \\\\ 1 \\\\ 1\\end{bmatrix}y =\n",
    "    \\begin{bmatrix} 3 \\\\ 1 \\\\ -2\\end{bmatrix}\n",
    "\\end{equation}\n",
    "$\n",
    "<br>\n",
    "$\n",
    "\\begin{equation}\n",
    "    \\begin{bmatrix}\n",
    "        1 & 0 & 3 \\\\\n",
    "        1 & 1 & 1 \\\\\n",
    "        0 & 1 & -2\\\\\n",
    "    \\end{bmatrix}\n",
    "    x = 3,y = -2,x + y = 1x + y = 1 \\xrightarrow[]{} 3 - 2 = 1\n",
    "\\end{equation}\n",
    "$\n",
    "<br>\n",
    "$\n",
    "\\begin{equation}\n",
    "    \\begin{bmatrix} 3 \\\\ 3 \\\\ 0\\end{bmatrix} +\n",
    "    \\begin{bmatrix} 0 \\\\ -2 \\\\ -2\\end{bmatrix} =\n",
    "    \\begin{bmatrix} 3 \\\\ 1 \\\\ -2\\end{bmatrix}\n",
    "\\end{equation}\n",
    "$\n",
    "<br>- <font color=green> A Linear Combination.</font><br>"
   ]
  },
  {
   "cell_type": "code",
   "execution_count": 23,
   "id": "c2d92974",
   "metadata": {},
   "outputs": [
    {
     "name": "stdout",
     "output_type": "stream",
     "text": [
      "Vector is a Linear Combination!\n"
     ]
    }
   ],
   "source": [
    "import numpy as np\n",
    "\n",
    "v = np.array([3, 1, -2])\n",
    "u2 = np.array([0, -2, -2])\n",
    "u3 = np.array([3, 1, -2])\n",
    "\n",
    "coeff_matrix = np.vstack((u2, u3)).T\n",
    "constants = v\n",
    "\n",
    "if np.linalg.matrix_rank(coeff_matrix) == np.linalg.matrix_rank(np.column_stack((coeff_matrix, constants))):\n",
    "    print(\"Vector is a Linear Combination!\")\n",
    "else:\n",
    "    print(\"Vector isn't a Linear Combination!\")"
   ]
  },
  {
   "cell_type": "markdown",
   "id": "e498c816",
   "metadata": {},
   "source": [
    "# **7. Show that the following vectors are a span:** <br>"
   ]
  },
  {
   "cell_type": "markdown",
   "id": "ef80bacb",
   "metadata": {},
   "source": [
    "a.<br>\n",
    "$\n",
    "span\\begin{pmatrix}\n",
    "\\begin{bmatrix}1 \\\\ 1 \\\\ \\end{bmatrix}\n",
    "\\begin{bmatrix}1 \\\\ -1 \\\\ \\end{bmatrix}\n",
    "\\end{pmatrix}\n",
    "$\n",
    "<br><br>\n",
    "$\n",
    " \\begin{equation}\n",
    "    \\begin{bmatrix}\n",
    "        1 & 1 | x\\\\\n",
    "        1 & -1 | y\\\\\n",
    "    \\end{bmatrix}\n",
    "    \\xrightarrow[]{}\n",
    "    \\begin{bmatrix}\n",
    "        1 & 1 | x | R_1\\\\\n",
    "        1 & -1 | y | R_2\\\\\n",
    "    \\end{bmatrix}\n",
    "    \\xrightarrow[R_2 - R_1]{\\frac{1}{-2}R_2}\n",
    "    \\begin{bmatrix}\n",
    "        1 & 1 | x | R_1\\\\\n",
    "        0 & 1 | y | \\frac{1}{-2}R_2\\\\\n",
    "    \\end{bmatrix}\n",
    "\\end{equation}\n",
    "$\n",
    "- <font color=green>Vectors are a span</font>\n",
    "<br><br>"
   ]
  },
  {
   "cell_type": "code",
   "execution_count": 11,
   "id": "1a9a843e",
   "metadata": {},
   "outputs": [
    {
     "name": "stdout",
     "output_type": "stream",
     "text": [
      "Vectors span the space.\n"
     ]
    }
   ],
   "source": [
    "import numpy as np\n",
    "\n",
    "v1 = np.array([1, 1])\n",
    "v2 = np.array([1, -1])\n",
    "arbitrary_vector = np.array([2, 3])\n",
    "\n",
    "coeff_matrix = np.column_stack((v1, v2))\n",
    "constants = arbitrary_vector\n",
    "\n",
    "coefficients = np.linalg.solve(coeff_matrix, constants)\n",
    "\n",
    "if np.allclose(coeff_matrix @ coefficients, constants):\n",
    "    print(\"Vectors span the space.\")\n",
    "else:\n",
    "    print(\"Vectors do not span the space.\")\n"
   ]
  },
  {
   "cell_type": "markdown",
   "id": "156463bd",
   "metadata": {},
   "source": [
    "b.<br>\n",
    "$\n",
    "span\\begin{pmatrix}\n",
    "\\begin{bmatrix}1 \\\\ 0 \\\\ 1\\end{bmatrix}\n",
    "\\begin{bmatrix}1 \\\\ 1 \\\\ 0\\end{bmatrix}\n",
    "\\begin{bmatrix}0 \\\\ 1 \\\\ 1\\end{bmatrix}\n",
    "\\end{pmatrix}\n",
    "$\n",
    "<br><br>\n",
    "$\n",
    " \\begin{equation}\n",
    "    \\begin{bmatrix}\n",
    "        1 & 1 & 0| x\\\\\n",
    "        0 & 1 & 1| y\\\\\n",
    "        1 & 0 & 1| z\\\\\n",
    "    \\end{bmatrix}\n",
    "    \\xrightarrow[]{R_3 - R_1}\n",
    "    \\begin{bmatrix}\n",
    "        1 & 1 & 0| x\\\\\n",
    "        0 & 1 & 1| y\\\\\n",
    "        0 & -1 & 1| z - x\\\\\n",
    "    \\end{bmatrix}\n",
    "    \\xrightarrow[]{R_3 + R_2}   \n",
    "    \\begin{bmatrix}\n",
    "        1 & 1 & 0| x\\\\\n",
    "        0 & 1 & 1| y\\\\\n",
    "        0 & 0 & 2| y - x + z\\\\\n",
    "    \\end{bmatrix}\n",
    "\\end{equation}\n",
    "$\n",
    "- <font color=green>Vectors are a span</font>\n",
    "<br>"
   ]
  },
  {
   "cell_type": "code",
   "execution_count": 13,
   "id": "bef7f1da",
   "metadata": {},
   "outputs": [
    {
     "name": "stdout",
     "output_type": "stream",
     "text": [
      "Vectors span the space.\n"
     ]
    }
   ],
   "source": [
    "import numpy as np\n",
    "\n",
    "v1, v2, v3 = np.array([1, 0, 1]), np.array([1, 1, 0]), np.array([0, 1, 1])\n",
    "arbitrary_vector = np.array([2, 3, 4])\n",
    "\n",
    "coeff_matrix = np.column_stack((v1, v2, v3))\n",
    "constants = arbitrary_vector\n",
    "\n",
    "coefficients = np.linalg.solve(coeff_matrix, constants)\n",
    "\n",
    "if np.allclose(coeff_matrix @ coefficients, constants):\n",
    "    print(\"Vectors span the space.\")\n",
    "else:\n",
    "    print(\"Vectors do not span the space.\")\n"
   ]
  },
  {
   "cell_type": "markdown",
   "id": "3516cb61",
   "metadata": {},
   "source": [
    "c.<br>\n",
    "$\n",
    "span\\begin{pmatrix}\n",
    "\\begin{bmatrix}1 \\\\ 0 \\\\ 1\\end{bmatrix}\n",
    "\\begin{bmatrix}1 \\\\ 1 \\\\ 0\\end{bmatrix}\n",
    "\\begin{bmatrix}0 \\\\ 1 \\\\ 1\\end{bmatrix}\n",
    "\\end{pmatrix}\n",
    "$\n",
    "<br><br>\n",
    "$\n",
    " \\begin{equation}\n",
    "    \\begin{bmatrix}\n",
    "        1 & 1 & 0| x\\\\\n",
    "        0 & 1 & 1| y\\\\\n",
    "        1 & 0 & 1| z\\\\\n",
    "    \\end{bmatrix}\n",
    "    \\xrightarrow[]{R_3 - R_1}\n",
    "    \\begin{bmatrix}\n",
    "        1 & 1 & 0| x\\\\\n",
    "        0 & 1 & 1| y\\\\\n",
    "        0 & -1 & 1| z - x\\\\\n",
    "    \\end{bmatrix}\n",
    "    \\xrightarrow[]{R_3 + R_2}   \n",
    "    \\begin{bmatrix}\n",
    "        1 & 1 & 0| x\\\\\n",
    "        0 & 1 & 1| y\\\\\n",
    "        0 & 0 & 2| y - x + z\\\\\n",
    "    \\end{bmatrix}\n",
    "\\end{equation}\n",
    "$\n",
    "- vectors are a span"
   ]
  },
  {
   "cell_type": "code",
   "execution_count": 14,
   "id": "b6d7b764",
   "metadata": {},
   "outputs": [
    {
     "name": "stdout",
     "output_type": "stream",
     "text": [
      "Vectors span the space.\n"
     ]
    }
   ],
   "source": [
    "import numpy as np\n",
    "\n",
    "v1, v2, v3 = np.array([1, 0, 1]), np.array([1, 1, 0]), np.array([0, 1, 1])\n",
    "arbitrary_vector = np.array([2, 3, 4])\n",
    "\n",
    "coeff_matrix = np.column_stack((v1, v2, v3))\n",
    "constants = arbitrary_vector\n",
    "\n",
    "coefficients = np.linalg.solve(coeff_matrix, constants)\n",
    "\n",
    "if np.allclose(coeff_matrix @ coefficients, constants):\n",
    "    print(\"Vectors span the space.\")\n",
    "else:\n",
    "    print(\"Vectors do not span the space.\")\n"
   ]
  },
  {
   "cell_type": "markdown",
   "id": "ddd1ec2e",
   "metadata": {},
   "source": [
    "# **8. Show that the following vectors are linearly independent:**<br><br>"
   ]
  },
  {
   "cell_type": "markdown",
   "id": "cc87662d",
   "metadata": {},
   "source": [
    "a. <br>\n",
    "$\n",
    "\\begin{equation}\n",
    "\\begin{bmatrix} 3 \\\\ -1 \\\\ 1 \\\\ -1 \\end{bmatrix}\n",
    "\\begin{bmatrix} -1 \\\\ 2 \\\\ 1 \\\\ -1 \\end{bmatrix}\n",
    "\\begin{bmatrix} 1 \\\\ 1 \\\\ 3 \\\\ 1 \\end{bmatrix}\n",
    "\\begin{bmatrix} -1 \\\\ -1 \\\\ 1 \\\\ 3 \\end{bmatrix}\n",
    "\\end{equation}\n",
    "$\n",
    "- the following vectors are linearly independent. <br>"
   ]
  },
  {
   "cell_type": "code",
   "execution_count": 18,
   "id": "847588c4",
   "metadata": {},
   "outputs": [
    {
     "name": "stdout",
     "output_type": "stream",
     "text": [
      "Vectors are Linearly Independent!\n"
     ]
    }
   ],
   "source": [
    "import numpy as np\n",
    "\n",
    "def check_linear_independence(vectors):\n",
    "    augmented_matrix = np.column_stack((vectors, np.zeros((len(vectors), 1))))\n",
    "    return np.linalg.matrix_rank(vectors) == np.linalg.matrix_rank(augmented_matrix)\n",
    "\n",
    "v1, v2, v3, v4 = np.array([0, 0, 0, 1]), np.array([0, 0, 2, 1]), np.array([0, 3, 2, 1]), np.array([4, 3, 2, 1])\n",
    "vector_matrix = np.column_stack((v1, v2, v3, v4))\n",
    "\n",
    "result = check_linear_independence(vector_matrix)\n",
    "\n",
    "print(\"Vectors are\" + (\" \" if result else \" not \") + \"Linearly Independent!\")"
   ]
  },
  {
   "cell_type": "markdown",
   "id": "86fbca95",
   "metadata": {},
   "source": [
    "b. <br>\n",
    "$\n",
    "\\begin{equation}\n",
    "\\begin{bmatrix} 0 \\\\ 0 \\\\ 0 \\\\ 1 \\end{bmatrix}\n",
    "\\begin{bmatrix} 0 \\\\ 0 \\\\ 2 \\\\ 1 \\end{bmatrix}\n",
    "\\begin{bmatrix} 0 \\\\ 3 \\\\ 2 \\\\ 1 \\end{bmatrix}\n",
    "\\begin{bmatrix} 4 \\\\ 3 \\\\ 2 \\\\ 1 \\end{bmatrix}\n",
    "\\end{equation}\n",
    "$\n",
    "- L1: 4z = 0; z = 0\n",
    "- L2: 3w + 3z; w = 0\n",
    "- L3: 2y + 2w + 2z = 0; y = 0\n",
    "- L4: x + 0 + 0 + 0 = 0; x = 0\n",
    "- Therefore, the vectors are linearly independent by condition 1."
   ]
  },
  {
   "cell_type": "code",
   "execution_count": 20,
   "id": "5713342b",
   "metadata": {},
   "outputs": [
    {
     "name": "stdout",
     "output_type": "stream",
     "text": [
      "Vectors are Linearly Independent!\n"
     ]
    }
   ],
   "source": [
    "import numpy as np\n",
    "\n",
    "def check_linear_independence(vectors):\n",
    "    augmented_matrix = np.column_stack((vectors, np.zeros((len(vectors), 1))))\n",
    "    return np.linalg.matrix_rank(vectors) == np.linalg.matrix_rank(augmented_matrix)\n",
    "\n",
    "# Given vectors\n",
    "v1, v2, v3, v4 = np.array([0, 0, 0, 4]), np.array([0, 0, 3, 3]), np.array([0, 2, 2, 2]), np.array([1, 1, 1, 1])\n",
    "vector_matrix = np.column_stack((v1, v2, v3, v4))\n",
    "\n",
    "result = check_linear_independence(vector_matrix)\n",
    "\n",
    "print(\"Vectors are\" + (\" \" if result else \" not \") + \"Linearly Independent!\")\n"
   ]
  },
  {
   "cell_type": "markdown",
   "id": "f777a02b",
   "metadata": {},
   "source": [
    "c. <br>\n",
    "$\n",
    "\\begin{equation}\n",
    "\\begin{bmatrix} 1 \\\\ -1 \\\\ 1 \\\\ 0 \\end{bmatrix}\n",
    "\\begin{bmatrix} -1 \\\\ 1 \\\\ 0 \\\\ 1 \\end{bmatrix}\n",
    "\\begin{bmatrix} 1 \\\\ 0 \\\\ 1 \\\\ -1 \\end{bmatrix}\n",
    "\\begin{bmatrix} 0 \\\\ 1 \\\\ -1 \\\\ 1 \\end{bmatrix}\n",
    "\\end{equation}\n",
    "$\n",
    "- M = 4 & N = 4. are linearly independent by condidtion 4"
   ]
  },
  {
   "cell_type": "code",
   "execution_count": 21,
   "id": "58c84036",
   "metadata": {},
   "outputs": [
    {
     "name": "stdout",
     "output_type": "stream",
     "text": [
      "Vectors are Linearly Independent!\n"
     ]
    }
   ],
   "source": [
    "import numpy as np\n",
    "\n",
    "def check_linear_independence(vectors):\n",
    "    augmented_matrix = np.column_stack((vectors, np.zeros((len(vectors), 1))))\n",
    "    return np.linalg.matrix_rank(vectors) == np.linalg.matrix_rank(augmented_matrix)\n",
    "\n",
    "# Given vectors\n",
    "r1, r2, r3, r4 = np.array([1, -1, 1, 0]), np.array([-1, 1, 0, 1]), np.array([1, 0, 1, -1]), np.array([0, 1, -1, 1])\n",
    "vector_matrix = np.column_stack((r1, r2, r3, r4))\n",
    "\n",
    "# Check linear independence\n",
    "result = check_linear_independence(vector_matrix)\n",
    "\n",
    "print(\"Vectors are\" + (\" \" if result else \" not \") + \"Linearly Independent!\")\n"
   ]
  }
 ],
 "metadata": {
  "kernelspec": {
   "display_name": "Python 3 (ipykernel)",
   "language": "python",
   "name": "python3"
  },
  "language_info": {
   "codemirror_mode": {
    "name": "ipython",
    "version": 3
   },
   "file_extension": ".py",
   "mimetype": "text/x-python",
   "name": "python",
   "nbconvert_exporter": "python",
   "pygments_lexer": "ipython3",
   "version": "3.12.0"
  }
 },
 "nbformat": 4,
 "nbformat_minor": 5
}
