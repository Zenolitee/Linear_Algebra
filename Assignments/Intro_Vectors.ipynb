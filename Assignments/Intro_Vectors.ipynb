{
 "cells": [
  {
   "cell_type": "markdown",
   "id": "f98e9935",
   "metadata": {},
   "source": [
    "**Name:** Eric Myles Panganiban<br>\n",
    "**ID:** 21103306"
   ]
  },
  {
   "attachments": {},
   "cell_type": "markdown",
   "id": "b9eafa58",
   "metadata": {},
   "source": [
    "# <font color=red> Assignment </font>\n",
    "---\n",
    "Instructions:<br>\n",
    "1. Create a folder in your github account titled Intro_Vectors.<br>\n",
    "2. Use Jupyterhub notebook to answer the problems.<br>\n",
    "3. Rename Jupyter notebook to Intro_Vectors.ipynb.<br>\n",
    "4. Show both manual and pythonic solutions.<br>\n",
    "5. For manual solutions write it in Latex format.<br>"
   ]
  },
  {
   "attachments": {},
   "cell_type": "markdown",
   "id": "2a977f5f",
   "metadata": {},
   "source": [
    "1. Let $\\textbf{u} = (1, -2, 4)$ and $\\textbf{v} = (3,5,1)$ $\\textbf{w} = (2,1,-3)$ find:<br>\n",
    "a. $3\\textbf{u}-2\\textbf{v}$<br>\n",
    "b. $5\\textbf{u}+3\\textbf{v}-4\\textbf{w}$<br>\n",
    "c. $\\textbf{u} \\cdotp \\textbf{v}$,$\\textbf{v} \\cdotp \\textbf{w}$, $\\textbf{u} \\cdotp \\textbf{w}$<br>\n",
    "d. ||$\\textbf{u}||, ||$\\textbf{v}||, ||$\\textbf{w}$||<br>\n",
    "e. If $\\theta$ is the angle between $\\textbf{u}$  and   $\\textbf{v}$, find $\\cos{\\theta}$.<br>\n",
    "f. If $\\alpha$ is the angle between $\\textbf{v}$  and   $\\textbf{w}$, find $\\cos{\\alpha}$.<br>\n",
    "g. If $\\beta$ is the angle between $\\textbf{u}$  and   $\\textbf{w}$, find $\\cos{\\beta}$.<br>\n",
    "h. Find $d(\\textbf{u},\\textbf{v})$.<br>\n",
    "i. Find $d(\\textbf{w},\\textbf{v})$.<br>\n",
    "j. Find $d(\\textbf{u},\\textbf{w})$. <br>\n",
    "k. Find $proj(\\textbf{u},\\textbf{v})$.<br>\n",
    "l. Find $proj(\\textbf{w},\\textbf{v})$.<br>\n",
    "m. Find $proj(\\textbf{u},\\textbf{w})$. <br>  \n",
    "<br>\n",
    "<br>\n",
    "2. Repeat problem 1 with the following column vectors:\n",
    "\\begin{align}\n",
    "    \\textbf{u} &= \\begin{bmatrix}\n",
    "           1 \\\\\n",
    "           3 \\\\\n",
    "           -4\n",
    "         \\end{bmatrix}, \\textbf{v} = \\begin{bmatrix}\n",
    "           2 \\\\\n",
    "           1 \\\\\n",
    "           5\n",
    "         \\end{bmatrix}, \\textbf{w} = \\begin{bmatrix}\n",
    "           3 \\\\\n",
    "           -2 \\\\\n",
    "           6\n",
    "         \\end{bmatrix}\n",
    "  \\end{align}\n",
    "<br>\n",
    "<br>\n",
    "<br>\n",
    "3. Let $\\textbf{u} = (2,-5,4,6,-3)$, $\\textbf{v} = (5,-2,1,-7,-4)$, and $\\textbf{w} = (2,1,-3)$ find:<br>\n",
    "a. $4\\textbf{u}-3\\textbf{v}$<br>\n",
    "b. $5\\textbf{u}+2\\textbf{v}-2\\textbf{w}$<br>\n",
    "c. $\\textbf{u} \\cdotp \\textbf{v}$,$\\textbf{v} \\cdotp \\textbf{w}$, $\\textbf{u} \\cdotp \\textbf{w}$<br>\n",
    "d. ||$\\textbf{u}$||, ||$\\textbf{v}$||, ||$\\textbf{w}$||<br>\n",
    "e. If $\\theta$ is the angle between $\\textbf{u}$  and   $\\textbf{v}$, find $\\cos{\\theta}$.<br>\n",
    "f. If $\\alpha$ is the angle between $\\textbf{v}$  and   $\\textbf{w}$, find $\\cos{\\alpha}$.<br>\n",
    "g. If $\\beta$ is the angle between $\\textbf{u}$  and   $\\textbf{w}$, find $\\cos{\\beta}$.<br>\n",
    "h. Find $d(\\textbf{u},\\textbf{v})$.<br>\n",
    "i. Find $d(\\textbf{w},\\textbf{v})$.<br>\n",
    "j. Find $d(\\textbf{u},\\textbf{w})$. <br>\n",
    "k. Find $proj(\\textbf{u},\\textbf{v})$.<br>\n",
    "l. Find $proj(\\textbf{w},\\textbf{v})$.<br>\n",
    "m. Find $proj(\\textbf{u},\\textbf{w})$. <br> \n",
    "<br>\n",
    "<br>\n",
    "4. Normalize each vector:<br>\n",
    "a. $\\textbf{u}$ = (5,-7).<br>\n",
    "b. $\\textbf{v}$ = (1,2,-2,4).<br>\n",
    "c. $\\textbf{w} = (\\frac{1}{2},\\frac{-1}{3},\\frac{3}{4})$.<br>\n",
    "<br>\n",
    "<br>\n",
    "5. Let $\\textbf{u} = (1,2,-2)$,$\\textbf{v} = (3,-12,4)$ and a scalar $k = -3$: <br>\n",
    "Find $||u||, ||v||, ||u+v||, ||ku||$.<br>\n",
    "<br>\n",
    "<br>\n",
    "6. Find k so that $\\textbf{u}  \\ and \\  \\textbf{v}$ are orthogonal.\n",
    "a. $\\textbf{u} = (3, k, -2), \\textbf{v} = (6, -4, -3)$.<br>\n",
    "b. $\\textbf{u} = (5,k,-4,2), \\textbf{v} = (1,-3,2,2k)$.<br>\n",
    "c. $\\textbf{u} = (1,7,k+2,-2), \\textbf{v} = (3, k, -3,k)$.<br>"
   ]
  },
  {
   "cell_type": "markdown",
   "id": "d84f5a35",
   "metadata": {},
   "source": [
    "**1.**"
   ]
  },
  {
   "cell_type": "code",
   "execution_count": 1,
   "id": "0ed39bc0",
   "metadata": {},
   "outputs": [
    {
     "name": "stdout",
     "output_type": "stream",
     "text": [
      "1.a.) 3u + 2v =  [ -3 -16  10]\n"
     ]
    }
   ],
   "source": [
    "import numpy as np\n",
    "u = np.array([1, -2, 4]) \n",
    "v = np.array([3,5,1])\n",
    "print(\"1.a.) 3u + 2v = \", 3*u-2*v)"
   ]
  },
  {
   "cell_type": "code",
   "execution_count": 2,
   "id": "f0b16711",
   "metadata": {},
   "outputs": [
    {
     "name": "stdout",
     "output_type": "stream",
     "text": [
      "1.b.) 5u + 3w - 4w =  [22  9 11]\n"
     ]
    }
   ],
   "source": [
    "import numpy as np\n",
    "u = np.array([1, -2, 4])\n",
    "v = np.array([3, 5, 1])\n",
    "w = np.array([2, 1, -3])\n",
    "print(\"1.b.) 5u + 3w - 4w = \", 5*u + 3*v + 4*w)"
   ]
  },
  {
   "cell_type": "code",
   "execution_count": 3,
   "id": "836e04ce",
   "metadata": {},
   "outputs": [
    {
     "name": "stdout",
     "output_type": "stream",
     "text": [
      "1.c.)\n",
      "u.v =  -3 \n",
      "v.w =  8 \n",
      "u.w =  -12\n"
     ]
    }
   ],
   "source": [
    "import numpy as np\n",
    "u = np.array([1, -2, 4])\n",
    "v = np.array([3, 5, 1])\n",
    "w = np.array([2, 1, -3])\n",
    "\n",
    "print(\"1.c.)\\nu.v = \",u.dot(v), \"\\nv.w = \", v.dot(w), \"\\nu.w = \", u.dot(w))"
   ]
  },
  {
   "cell_type": "code",
   "execution_count": 4,
   "id": "053740a0",
   "metadata": {},
   "outputs": [
    {
     "name": "stdout",
     "output_type": "stream",
     "text": [
      "1.d.)\n",
      "\n",
      "||u|| =  4.58257569495584 \n",
      "||u|| =  4.58257569495584 \n",
      "\n",
      "||v|| =  5.916079783099616 \n",
      "||v|| =  5.916079783099616 \n",
      "\n",
      "||w|| =  3.7416573867739413 \n",
      "||w|| =  3.7416573867739413\n"
     ]
    }
   ],
   "source": [
    "import numpy as np\n",
    "u = np.array([1, -2, 4])\n",
    "v = np.array([3, 5 , 1])\n",
    "w = np.array([2, 1, -3])\n",
    "\n",
    "print(\"1.d.)\\n\\n||u|| = \", np.sqrt(u.dot(u)), \"\\n||u|| = \", np.sqrt(21), \"\\n\\n||v|| = \", np.sqrt(v.dot(v)), \"\\n||v|| = \", np.sqrt(35), \"\\n\\n||w|| = \", np.sqrt(w.dot(w)), \"\\n||w|| = \", np.sqrt(14))"
   ]
  },
  {
   "cell_type": "code",
   "execution_count": 5,
   "id": "06a4ca99",
   "metadata": {},
   "outputs": [
    {
     "name": "stdout",
     "output_type": "stream",
     "text": [
      "1.e.)\n",
      "angle =  -0.11065666703449763\n",
      "angle =  -0.11065666703449763\n"
     ]
    }
   ],
   "source": [
    "import numpy as np\n",
    "\n",
    "u = np.array([1, -2, 4])\n",
    "v = np.array([3, 5, 1])\n",
    "\n",
    "print(\"1.e.)\")\n",
    "print(\"angle = \", u.dot(v) / (np.linalg.norm(u)*np.linalg.norm(v)))\n",
    "print(\"angle = \", (-3) / (np.sqrt(21)*np.sqrt(35)))"
   ]
  },
  {
   "cell_type": "code",
   "execution_count": 6,
   "id": "850c654d",
   "metadata": {},
   "outputs": [
    {
     "name": "stdout",
     "output_type": "stream",
     "text": [
      "1.f.)\n",
      "angle =  0.36140316116210053 \n",
      "angle =  0.36140316116210053\n"
     ]
    }
   ],
   "source": [
    "import numpy as np\n",
    "\n",
    "v = np.array([3, 5, 1])\n",
    "w = np.array([2, 1, -3])\n",
    "\n",
    "print(\"1.f.)\\nangle = \", v.dot(w) / (np.linalg.norm(v)*np.linalg.norm(w)), \"\\nangle = \", 8 / (np.sqrt(35)*np.sqrt(14)))"
   ]
  },
  {
   "cell_type": "code",
   "execution_count": 7,
   "id": "21630fbb",
   "metadata": {},
   "outputs": [
    {
     "name": "stdout",
     "output_type": "stream",
     "text": [
      "1.g.)\n",
      "angle =  -0.6998542122237653 \n",
      "angle =  -0.6998542122237653\n"
     ]
    }
   ],
   "source": [
    "import numpy as np\n",
    "u = np.array([1, -2, 4])\n",
    "w = np.array([2, 1, -3])\n",
    "print(\"1.g.)\\nangle = \", u.dot(w) / (np.linalg.norm(u)*np.linalg.norm(w)), \"\\nangle = \", (-12) / (np.sqrt(21)*np.sqrt(14)))"
   ]
  },
  {
   "cell_type": "code",
   "execution_count": 8,
   "id": "486319e2",
   "metadata": {},
   "outputs": [
    {
     "name": "stdout",
     "output_type": "stream",
     "text": [
      "1.h.)\n",
      "d(u, v) =  7.874007874011811 \n",
      "d(u, v) =  7.874007874011811\n"
     ]
    }
   ],
   "source": [
    "import numpy as np\n",
    "u = np.array([1, -2, 4])\n",
    "v = np.array([3, 5, 1])\n",
    "\n",
    "print(\"1.h.)\\nd(u, v) = \", np.linalg.norm(u-v), \"\\nd(u, v) = \", np.sqrt(62))"
   ]
  },
  {
   "cell_type": "code",
   "execution_count": 9,
   "id": "c18a2e94",
   "metadata": {},
   "outputs": [
    {
     "name": "stdout",
     "output_type": "stream",
     "text": [
      "1.i.)\n",
      "d(w, v) =  5.744562646538029 \n",
      "d(w, v) =  5.744562646538029\n"
     ]
    }
   ],
   "source": [
    "import numpy as np\n",
    "w = np.array([2, 1, -3])\n",
    "v = np.array([3, 5, 1])\n",
    "\n",
    "print(\"1.i.)\\nd(w, v) = \", np.linalg.norm(w-v), \"\\nd(w, v) = \", np.sqrt(33))"
   ]
  },
  {
   "cell_type": "code",
   "execution_count": 10,
   "id": "578a5385",
   "metadata": {},
   "outputs": [
    {
     "name": "stdout",
     "output_type": "stream",
     "text": [
      "1.j.)\n",
      "d(u, w) =  7.681145747868608 \n",
      "d(u, w) =  7.681145747868608\n"
     ]
    }
   ],
   "source": [
    "import numpy as np\n",
    "u = np.array([1, -2, 4])\n",
    "w = np.array([2, 1, -3])\n",
    "\n",
    "print(\"1.j.)\\nd(u, w) = \", np.linalg.norm(u-w), \"\\nd(u, w) = \", np.sqrt(59))"
   ]
  },
  {
   "cell_type": "code",
   "execution_count": 11,
   "id": "b6beaf88",
   "metadata": {},
   "outputs": [
    {
     "name": "stdout",
     "output_type": "stream",
     "text": [
      "1.k.)\n",
      "proj(u, v) =  [-0.25714286 -0.42857143 -0.08571429] \n",
      "proj(u, v) =  [-0.2571428571428571, -0.42857142857142855, -0.08571428571428572]\n"
     ]
    }
   ],
   "source": [
    "import numpy as np\n",
    "u = np.array([1, -2, 4])\n",
    "v = np.array([3, 5, 1])\n",
    "\n",
    "print(\"1.k.)\\nproj(u, v) = \", u.dot(v) * v / (np.linalg.norm(v) ** 2), \"\\nproj(u, v) = \",[(-9)/35, (-3)/7, (-3)/35])"
   ]
  },
  {
   "cell_type": "code",
   "execution_count": 12,
   "id": "8a96d195",
   "metadata": {},
   "outputs": [
    {
     "name": "stdout",
     "output_type": "stream",
     "text": [
      "1.l.)\n",
      "proj(u, v) =  [0.68571429 1.14285714 0.22857143] \n",
      "proj(u, v) =  [0.6857142857142857, 1.1428571428571428, 0.22857142857142856]\n"
     ]
    }
   ],
   "source": [
    "import numpy as np\n",
    "w = np.array([2, 1, -3])\n",
    "v = np.array([3, 5, 1])\n",
    "\n",
    "print(\"1.l.)\\nproj(u, v) = \", w.dot(v) * v / (np.linalg.norm(v) ** 2), \"\\nproj(u, v) = \",[24/35, 8/7, 8/35])"
   ]
  },
  {
   "cell_type": "code",
   "execution_count": 13,
   "id": "0ce3516b",
   "metadata": {},
   "outputs": [
    {
     "name": "stdout",
     "output_type": "stream",
     "text": [
      "1.m.)\n",
      "proj(u, w) =  [-1.71428571 -0.85714286  2.57142857] \n",
      "proj(u, w) =  [-1.7142857142857142, -0.8571428571428571, 2.5714285714285716]\n"
     ]
    }
   ],
   "source": [
    "import numpy as np\n",
    "u = np.array([1, -2, 4])\n",
    "w = np.array([2, 1, -3])\n",
    "\n",
    "print(\"1.m.)\\nproj(u, w) = \", u.dot(w) * w / (np.linalg.norm(w) ** 2), \"\\nproj(u, w) = \",[-12/7, -6/7, 18/7])"
   ]
  },
  {
   "cell_type": "code",
   "execution_count": 14,
   "id": "99324b24",
   "metadata": {},
   "outputs": [
    {
     "name": "stdout",
     "output_type": "stream",
     "text": [
      "2.a.)\n",
      " 3u + 2v =  [ -1   7 -22]\n"
     ]
    }
   ],
   "source": [
    "import numpy as np\n",
    "u = np.array([1, 3, -4])\n",
    "v = np.array([2, 1, 5])\n",
    "\n",
    "print(\"2.a.)\\n 3u + 2v = \", 3*u - 2*v)"
   ]
  },
  {
   "cell_type": "markdown",
   "id": "c3b087c4",
   "metadata": {},
   "source": [
    "**2.**"
   ]
  },
  {
   "cell_type": "code",
   "execution_count": 15,
   "id": "f7d1c009",
   "metadata": {},
   "outputs": [
    {
     "name": "stdout",
     "output_type": "stream",
     "text": [
      "2.b.)\n",
      " 5u + 3v - 4w =  [ -1  26 -29]\n"
     ]
    }
   ],
   "source": [
    "import numpy as np\n",
    "u = np.array([1, 3, -4])\n",
    "v = np.array([2, 1, 5])\n",
    "w = np.array([3, -2, 6])\n",
    "\n",
    "print(\"2.b.)\\n 5u + 3v - 4w = \", 5*u + 3*v - 4*w)"
   ]
  },
  {
   "cell_type": "code",
   "execution_count": 16,
   "id": "6651544d",
   "metadata": {},
   "outputs": [
    {
     "name": "stdout",
     "output_type": "stream",
     "text": [
      "2.c.)\n",
      "u.v =  -15 \n",
      "v.w =  34 \n",
      "u.w =  -27\n"
     ]
    }
   ],
   "source": [
    "import numpy as np\n",
    "u = np.array([1, 3, -4])\n",
    "v = np.array([2, 1, 5])\n",
    "w = np.array([3, -2, 6])\n",
    "\n",
    "print(\"2.c.)\\nu.v = \", u.dot(v), \"\\nv.w = \", v.dot(w), \"\\nu.w = \", u.dot(w))"
   ]
  },
  {
   "cell_type": "code",
   "execution_count": 17,
   "id": "b63a581a",
   "metadata": {},
   "outputs": [
    {
     "name": "stdout",
     "output_type": "stream",
     "text": [
      "2.d.)\n",
      "||u|| =  5.0990195135927845 \n",
      "||u|| =  5.0990195135927845 \n",
      "\n",
      "||v|| =  5.477225575051661 \n",
      "||v|| =  5.477225575051661 \n",
      "\n",
      "||w|| =  7.0 \n",
      "||w|| =  7.0\n"
     ]
    }
   ],
   "source": [
    "import numpy as np\n",
    "u = np.array([1, 3, -4])\n",
    "v = np.array([2, 1, 5])\n",
    "w = np.array([3, -2, 6])\n",
    "\n",
    "print(\"2.d.)\\n||u|| = \", np.sqrt(u.dot(u)), \"\\n||u|| = \", np.sqrt(26), \"\\n\\n||v|| = \", np.sqrt(v.dot(v)), \"\\n||v|| = \", np.sqrt(30), \"\\n\\n||w|| = \", np.sqrt(w.dot(w)), \"\\n||w|| = \", np.sqrt(49))"
   ]
  },
  {
   "cell_type": "code",
   "execution_count": 18,
   "id": "ceaa50a6",
   "metadata": {},
   "outputs": [
    {
     "name": "stdout",
     "output_type": "stream",
     "text": [
      "2.e.)\n",
      "angle =  -0.5370861555295747 \n",
      "angle =  -0.5370861555295747\n"
     ]
    }
   ],
   "source": [
    "import numpy as np\n",
    "u = np.array([1, 3, -4])\n",
    "v = np.array([2, 1, 5])\n",
    "\n",
    "print(\"2.e.)\\nangle = \", u.dot(v) / (np.linalg.norm(u)*np.linalg.norm(v)), \"\\nangle = \", (-15) / (np.sqrt(26)*np.sqrt(30)))"
   ]
  },
  {
   "cell_type": "code",
   "execution_count": 19,
   "id": "14e97262",
   "metadata": {},
   "outputs": [
    {
     "name": "stdout",
     "output_type": "stream",
     "text": [
      "2.f.)\n",
      "angle =  0.8867889026274118 \n",
      "angle =  0.8867889026274118\n"
     ]
    }
   ],
   "source": [
    "import numpy as np\n",
    "v = np.array([2, 1, 5])\n",
    "w = np.array([3, -2, 6])\n",
    "\n",
    "print(\"2.f.)\\nangle = \", v.dot(w) / (np.linalg.norm(v)*np.linalg.norm(w)), \"\\nangle = \", 34 / (np.sqrt(30)*np.sqrt(49)))\n"
   ]
  },
  {
   "cell_type": "code",
   "execution_count": 20,
   "id": "4cb932fa",
   "metadata": {},
   "outputs": [
    {
     "name": "stdout",
     "output_type": "stream",
     "text": [
      "2.g.)\n",
      "angle =  -0.7564479498187099 \n",
      "angle =  -0.7564479498187099\n"
     ]
    }
   ],
   "source": [
    "import numpy as np\n",
    "u = np.array([1, 3, -4])\n",
    "w = np.array([3, -2, 6])\n",
    "\n",
    "print(\"2.g.)\\nangle = \", u.dot(w) / (np.linalg.norm(u)*np.linalg.norm(w)), \"\\nangle = \", (-27) / (np.sqrt(26)*np.sqrt(49)))"
   ]
  },
  {
   "cell_type": "code",
   "execution_count": 21,
   "id": "ede07578",
   "metadata": {},
   "outputs": [
    {
     "name": "stdout",
     "output_type": "stream",
     "text": [
      "2.h.)\n",
      "d(u, v) =  9.273618495495704 \n",
      "d(u, v) =  9.273618495495704\n"
     ]
    }
   ],
   "source": [
    "import numpy as np\n",
    "u = np.array([1, 3, -4])\n",
    "v = np.array([2, 1, 5])\n",
    "\n",
    "print(\"2.h.)\\nd(u, v) = \", np.linalg.norm(u-v), \"\\nd(u, v) = \", np.sqrt(86))"
   ]
  },
  {
   "cell_type": "code",
   "execution_count": 22,
   "id": "a0a0aa00",
   "metadata": {},
   "outputs": [
    {
     "name": "stdout",
     "output_type": "stream",
     "text": [
      "2.i.)\n",
      "d(w, v) =  3.3166247903554 \n",
      "d(w, v) =  3.3166247903554\n"
     ]
    }
   ],
   "source": [
    "import numpy as np\n",
    "w = np.array([3, -2, 6])\n",
    "v = np.array([2, 1, 5])\n",
    "\n",
    "print(\"2.i.)\\nd(w, v) = \", np.linalg.norm(w-v), \"\\nd(w, v) = \", np.sqrt(11))"
   ]
  },
  {
   "cell_type": "code",
   "execution_count": 23,
   "id": "8fddc251",
   "metadata": {},
   "outputs": [
    {
     "name": "stdout",
     "output_type": "stream",
     "text": [
      "2.j.)\n",
      "d(u, w) =  11.357816691600547 \n",
      "d(u, w) =  11.357816691600547\n"
     ]
    }
   ],
   "source": [
    "import numpy as np\n",
    "u = np.array([1, 3, -4])\n",
    "w = np.array([3, -2, 6])\n",
    "\n",
    "print(\"2.j.)\\nd(u, w) = \", np.linalg.norm(u-w), \"\\nd(u, w) = \", np.sqrt(129))\n"
   ]
  },
  {
   "cell_type": "code",
   "execution_count": 24,
   "id": "546dec00",
   "metadata": {},
   "outputs": [
    {
     "name": "stdout",
     "output_type": "stream",
     "text": [
      "2.k.)\n",
      "proj(u, v) =  [-1.  -0.5 -2.5] \n",
      "proj(u, v) =  [-1, -0.5, -2.5]\n"
     ]
    }
   ],
   "source": [
    "import numpy as np\n",
    "u = np.array([1, 3, -4])\n",
    "v = np.array([2, 1, 5])\n",
    "\n",
    "print(\"2.k.)\\nproj(u, v) = \", u.dot(v) * v / (np.linalg.norm(v) ** 2), \"\\nproj(u, v) = \", [(-1), (-1)/2, (-5)/2])"
   ]
  },
  {
   "cell_type": "code",
   "execution_count": 25,
   "id": "c77ffe0e",
   "metadata": {},
   "outputs": [
    {
     "name": "stdout",
     "output_type": "stream",
     "text": [
      "2.l.)\n",
      "proj(u, v) =  [2.26666667 1.13333333 5.66666667] \n",
      "proj(u, v) =  [2.2666666666666666, 1.1333333333333333, 5.666666666666667]\n"
     ]
    }
   ],
   "source": [
    "import numpy as np\n",
    "w = np.array([3, -2, 6])\n",
    "v = np.array([2, 1, 5])\n",
    "\n",
    "print(\"2.l.)\\nproj(u, v) = \", w.dot(v) * v / (np.linalg.norm(v) ** 2), \"\\nproj(u, v) = \", [68/30, 34/30, 170/30])"
   ]
  },
  {
   "cell_type": "code",
   "execution_count": 26,
   "id": "ed235f5c",
   "metadata": {},
   "outputs": [
    {
     "name": "stdout",
     "output_type": "stream",
     "text": [
      "2.m.)\n",
      "proj(u, w) =  [-1.65306122  1.10204082 -3.30612245] \n",
      "proj(u, w) =  [-1.653061224489796, 1.1020408163265305, -3.306122448979592]\n"
     ]
    }
   ],
   "source": [
    "import numpy as np\n",
    "u = np.array([1, 3, -4])\n",
    "w = np.array([3, -2, 6])\n",
    "\n",
    "print(\"2.m.)\\nproj(u, w) = \", u.dot(w) * w / (np.linalg.norm(w) ** 2), \"\\nproj(u, w) = \", [(-81)/49, 54/49, ((-162)/49)])"
   ]
  },
  {
   "cell_type": "markdown",
   "id": "645f54f3",
   "metadata": {},
   "source": [
    "**3.**"
   ]
  },
  {
   "cell_type": "code",
   "execution_count": 27,
   "id": "71cf9691",
   "metadata": {},
   "outputs": [
    {
     "name": "stdout",
     "output_type": "stream",
     "text": [
      "3.a.)\n",
      " 4u - 3v =  [ -7 -14  13  45 -24]\n"
     ]
    }
   ],
   "source": [
    "import numpy as np\n",
    "u = np.array([2, -5, 4, 6, -3])\n",
    "v = np.array([5, -2, 1, -7, 4])\n",
    "\n",
    "print(\"3.a.)\\n 4u - 3v = \", 4 * u - 3 * v)"
   ]
  },
  {
   "cell_type": "code",
   "execution_count": 28,
   "id": "f1d2abfe",
   "metadata": {},
   "outputs": [
    {
     "name": "stdout",
     "output_type": "stream",
     "text": [
      "3.b.)\n",
      " 5u + 2v - 2w =  [ 16 -31  28  16 -23]\n"
     ]
    }
   ],
   "source": [
    "import numpy as np\n",
    "u = np.array([2, -5, 4, 6, -3])\n",
    "v = np.array([5, -2, 1, -7, -4])\n",
    "w = np.array([2, 1, -3, 0, 0])\n",
    "\n",
    "print(\"3.b.)\\n 5u + 2v - 2w = \", (5 * u) + (2 * v) - (2 * w))"
   ]
  },
  {
   "cell_type": "code",
   "execution_count": 29,
   "id": "00fd4018",
   "metadata": {},
   "outputs": [
    {
     "name": "stdout",
     "output_type": "stream",
     "text": [
      "3.c.)\n",
      "u.v =  -6 \n",
      "v.w =  5 \n",
      "u.w =  -13\n"
     ]
    }
   ],
   "source": [
    "import numpy as np\n",
    "u = np.array([2, -5, 4, 6, -3])\n",
    "v = np.array([5, -2, 1, -7, -4])\n",
    "w = np.array([2, 1, -3, 0, 0])\n",
    "\n",
    "\n",
    "print(\"3.c.)\\nu.v = \", u.dot(v), \"\\nv.w = \", v.dot(w), \"\\nu.w = \", u.dot(w))"
   ]
  },
  {
   "cell_type": "code",
   "execution_count": 30,
   "id": "6da89cdb",
   "metadata": {},
   "outputs": [
    {
     "name": "stdout",
     "output_type": "stream",
     "text": [
      "3.d.)\n",
      "\n",
      "||u|| =  9.486832980505138\n",
      "||u|| =  9.486832980505138\n",
      "\n",
      "||v|| =  9.746794344808963\n",
      "||v|| =  9.746794344808963\n",
      "\n",
      "||w|| =  3.7416573867739413\n",
      "||w|| =  3.7416573867739413\n"
     ]
    }
   ],
   "source": [
    "import numpy as np\n",
    "u = np.array([2, -5, 4, 6, -3])\n",
    "v = np.array([5, -2, 1, -7, -4])\n",
    "w = np.array([2, 1, -3, 0, 0])\n",
    "\n",
    "print(\"3.d.)\\n\")\n",
    "print(\"||u|| = \", np.sqrt(u.dot(u)))\n",
    "print(\"||u|| = \", np.sqrt(90))\n",
    "print()\n",
    "print(\"||v|| = \", np.sqrt(v.dot(v)))\n",
    "print(\"||v|| = \", np.sqrt(95))\n",
    "print()\n",
    "print(\"||w|| = \", np.sqrt(w.dot(w)))\n",
    "print(\"||w|| = \", np.sqrt(14))"
   ]
  },
  {
   "cell_type": "code",
   "execution_count": 31,
   "id": "a242e37c",
   "metadata": {},
   "outputs": [
    {
     "name": "stdout",
     "output_type": "stream",
     "text": [
      "3.e.)\n",
      "\n",
      "angle =  -0.06488856845230502\n",
      "angle =  -0.06488856845230502\n"
     ]
    }
   ],
   "source": [
    "import numpy as np\n",
    "u = np.array([2, -5, 4, 6, -3])\n",
    "v = np.array([5, -2, 1, -7, -4])\n",
    "\n",
    "print(\"3.e.)\\n\")\n",
    "print(\"angle = \", u.dot(v) / (np.linalg.norm(u)*np.linalg.norm(v)))\n",
    "print(\"angle = \", (-6) / (np.sqrt(90)*np.sqrt(95)))"
   ]
  },
  {
   "cell_type": "code",
   "execution_count": 32,
   "id": "bfc68fc3",
   "metadata": {},
   "outputs": [
    {
     "name": "stdout",
     "output_type": "stream",
     "text": [
      "3.f.)\n",
      "\n",
      "angle =  0.13710212427677046\n",
      "angle =  0.13710212427677046\n"
     ]
    }
   ],
   "source": [
    "import numpy as np\n",
    "v = np.array([5, -2, 1, -7, -4])\n",
    "w = np.array([2, 1, -3, 0, 0])\n",
    "\n",
    "print(\"3.f.)\\n\")\n",
    "print(\"angle = \", v.dot(w) / (np.linalg.norm(v)*np.linalg.norm(w)))\n",
    "print(\"angle = \", 5 / (np.sqrt(95)*np.sqrt(14)))"
   ]
  },
  {
   "cell_type": "code",
   "execution_count": 33,
   "id": "777cc64a",
   "metadata": {},
   "outputs": [
    {
     "name": "stdout",
     "output_type": "stream",
     "text": [
      "3.g.)\n",
      "\n",
      "angle =  -0.3662335103823572\n",
      "angle =  -0.3662335103823572\n"
     ]
    }
   ],
   "source": [
    "import numpy as np\n",
    "u = np.array([2, -5, 4, 6, -3])\n",
    "w = np.array([2, 1, -3, 0, 0])\n",
    "\n",
    "print(\"3.g.)\\n\")\n",
    "print(\"angle = \", u.dot(w) / (np.linalg.norm(u)*np.linalg.norm(w)))\n",
    "print(\"angle = \", (-13) / (np.sqrt(90)*np.sqrt(14)))"
   ]
  },
  {
   "cell_type": "code",
   "execution_count": 34,
   "id": "058368f7",
   "metadata": {},
   "outputs": [
    {
     "name": "stdout",
     "output_type": "stream",
     "text": [
      "3.h.)\n",
      "\n",
      "d(u, v) =  14.035668847618199\n",
      "d(u, v) =  14.035668847618199\n"
     ]
    }
   ],
   "source": [
    "import numpy as np\n",
    "u = np.array([2, -5, 4, 6, -3])\n",
    "v = np.array([5, -2, 1, -7, -4])\n",
    "\n",
    "print(\"3.h.)\\n\")\n",
    "print(\"d(u, v) = \", np.linalg.norm(u-v))\n",
    "print(\"d(u, v) = \", np.sqrt(197))"
   ]
  },
  {
   "cell_type": "code",
   "execution_count": 35,
   "id": "d514ab2e",
   "metadata": {},
   "outputs": [
    {
     "name": "stdout",
     "output_type": "stream",
     "text": [
      "3.i.)\n",
      "\n",
      "d(w, v) =  9.9498743710662\n",
      "d(w, v) =  9.9498743710662\n"
     ]
    }
   ],
   "source": [
    "import numpy as np\n",
    "w = np.array([2, 1, -3, 0, 0])\n",
    "v = np.array([5, -2, 1, -7, -4])\n",
    "\n",
    "print(\"3.i.)\\n\")\n",
    "print(\"d(w, v) = \", np.linalg.norm(w-v))\n",
    "print(\"d(w, v) = \", np.sqrt(99))"
   ]
  },
  {
   "cell_type": "code",
   "execution_count": 36,
   "id": "c3d49836",
   "metadata": {},
   "outputs": [
    {
     "name": "stdout",
     "output_type": "stream",
     "text": [
      "3.j.)\n",
      "\n",
      "d(u, w) =  11.40175425099138\n",
      "d(u, w) =  11.40175425099138\n"
     ]
    }
   ],
   "source": [
    "import numpy as np\n",
    "u = np.array([2, -5, 4, 6, -3])\n",
    "w = np.array([2, 1, -3, 0, 0])\n",
    "\n",
    "print(\"3.j.)\\n\")\n",
    "print(\"d(u, w) = \", np.linalg.norm(u-w))\n",
    "print(\"d(u, w) = \", np.sqrt(130))"
   ]
  },
  {
   "cell_type": "code",
   "execution_count": 37,
   "id": "770766ef",
   "metadata": {},
   "outputs": [
    {
     "name": "stdout",
     "output_type": "stream",
     "text": [
      "3.k.)\n",
      "\n",
      "proj(u, v) =  [-0.31578947  0.12631579 -0.06315789  0.44210526  0.25263158]\n",
      "proj(u, v) =  [-0.3157894736842105, 0.12631578947368421, -0.06315789473684211, 0.4421052631578947, 0.25263157894736843]\n"
     ]
    }
   ],
   "source": [
    "import numpy as np\n",
    "u = np.array([2, -5, 4, 6, -3])\n",
    "v = np.array([5, -2, 1, -7, -4])\n",
    "\n",
    "print(\"3.k.)\\n\")\n",
    "print(\"proj(u, v) = \", u.dot(v) * v / (np.linalg.norm(v) ** 2))\n",
    "print(\"proj(u, v) = \", [(-6)/19, 12/95, (-6)/95, 42/95, 24/95])"
   ]
  },
  {
   "cell_type": "code",
   "execution_count": 38,
   "id": "0dd3cfb4",
   "metadata": {},
   "outputs": [
    {
     "name": "stdout",
     "output_type": "stream",
     "text": [
      "3.l.)\n",
      "\n",
      "proj(w, v) =  [ 0.26315789 -0.10526316  0.05263158 -0.36842105 -0.21052632]\n",
      "proj(w, v) =  [0.2631578947368421, -0.10526315789473684, 0.05263157894736842, -0.3684210526315789, -0.21052631578947367]\n"
     ]
    }
   ],
   "source": [
    "import numpy as np\n",
    "w = np.array([2, 1, -3, 0, 0])\n",
    "v = np.array([5, -2, 1, -7, -4])\n",
    "\n",
    "print(\"3.l.)\\n\")\n",
    "print(\"proj(w, v) = \", w.dot(v) * v / (np.linalg.norm(v) ** 2))\n",
    "print(\"proj(w, v) = \", [5/19, (-2)/19, 5/95, (-7)/19, (-4)/19])"
   ]
  },
  {
   "cell_type": "code",
   "execution_count": 39,
   "id": "2b82ff96",
   "metadata": {},
   "outputs": [
    {
     "name": "stdout",
     "output_type": "stream",
     "text": [
      "3.m.)\n",
      "\n",
      "proj(u, w) =  [-1.85714286 -0.92857143  2.78571429  0.          0.        ]\n",
      "proj(u, w) =  [-1.8571428571428572, -0.9285714285714286, 2.7857142857142856, 0, 0]\n"
     ]
    }
   ],
   "source": [
    "import numpy as np\n",
    "u = np.array([2, -5, 4, 6, -3])\n",
    "w = np.array([2, 1, -3, 0, 0])\n",
    "\n",
    "print(\"3.m.)\\n\")\n",
    "print(\"proj(u, w) = \", u.dot(w) * w / (np.linalg.norm(w) ** 2))\n",
    "print(\"proj(u, w) = \", [(-13)/7, (-13)/14, 39/14, 0, 0])"
   ]
  },
  {
   "cell_type": "markdown",
   "id": "395973c0",
   "metadata": {},
   "source": [
    "**4.**"
   ]
  },
  {
   "cell_type": "code",
   "execution_count": 40,
   "id": "1c94585d",
   "metadata": {},
   "outputs": [
    {
     "name": "stdout",
     "output_type": "stream",
     "text": [
      "4.a.)\n",
      "||u|| =  8.602325267042627 \n",
      "||u|| = 8.602325267042627\n"
     ]
    }
   ],
   "source": [
    "import numpy as np\n",
    "u = np.array([5, -7])\n",
    "\n",
    "print(\"4.a.)\\n||u|| = \", np.sqrt(u.dot(u)), \"\\n||u|| =\", np.sqrt(74))"
   ]
  },
  {
   "cell_type": "code",
   "execution_count": 41,
   "id": "5f467352",
   "metadata": {},
   "outputs": [
    {
     "name": "stdout",
     "output_type": "stream",
     "text": [
      "4.b.)\n",
      "||v|| =  5.0 \n",
      "||v|| = 5.0\n"
     ]
    }
   ],
   "source": [
    "import numpy as np\n",
    "v = np.array([1, 2, -2, 4])\n",
    "\n",
    "print(\"4.b.)\\n||v|| = \", np.sqrt(v.dot(v)), \"\\n||v|| =\", np.sqrt(25))"
   ]
  },
  {
   "cell_type": "code",
   "execution_count": 42,
   "id": "669bf7b7",
   "metadata": {},
   "outputs": [
    {
     "name": "stdout",
     "output_type": "stream",
     "text": [
      "4.c.)\n",
      "\n",
      "||w|| =  0.961046882889233\n",
      "||w|| = 0.961046882889233\n"
     ]
    }
   ],
   "source": [
    "import numpy as np\n",
    "w = np.array([1/2, (-1)/3, 3/4])\n",
    "\n",
    "print(\"4.c.)\\n\")\n",
    "print(\"||w|| = \", np.sqrt(w.dot(w)))\n",
    "print(\"||w|| =\", np.sqrt(133/144))"
   ]
  },
  {
   "cell_type": "markdown",
   "id": "cf392dbc",
   "metadata": {},
   "source": [
    "**5.**"
   ]
  },
  {
   "cell_type": "code",
   "execution_count": 43,
   "id": "b3aaf5ef",
   "metadata": {},
   "outputs": [
    {
     "name": "stdout",
     "output_type": "stream",
     "text": [
      "5.)\n",
      "\n",
      "||u|| =  3.0\n",
      "||u|| = 3.0\n",
      "\n",
      "||v|| =  13.0\n",
      "||v|| = 13.0\n",
      "\n",
      "||u + v|| =  10.954451150103322\n",
      "||u + v|| =  10.954451150103322\n",
      "\n",
      "||ku|| =  9.0\n",
      "||ku|| =  9.0\n"
     ]
    }
   ],
   "source": [
    "import numpy as np\n",
    "u = np.array([1, 2, -2])\n",
    "v = np.array([3, -12, 4])\n",
    "k = -3\n",
    "\n",
    "print(\"5.)\\n\")\n",
    "print(\"||u|| = \", np.sqrt(u.dot(u)))\n",
    "print(\"||u|| =\", np.sqrt(9))\n",
    "print(\"\")\n",
    "print(\"||v|| = \", np.sqrt(v.dot(v)))\n",
    "print(\"||v|| =\", np.sqrt(169))\n",
    "print(\"\")\n",
    "print(\"||u + v|| = \", np.linalg.norm(u + v))\n",
    "print(\"||u + v|| = \", np.sqrt(120))\n",
    "print(\"\")\n",
    "print(\"||ku|| = \", np.linalg.norm(k * u))\n",
    "print(\"||ku|| = \", np.sqrt(81))"
   ]
  },
  {
   "cell_type": "markdown",
   "id": "03090a2d",
   "metadata": {},
   "source": [
    "**6.**"
   ]
  },
  {
   "cell_type": "code",
   "execution_count": 44,
   "id": "20f4e642",
   "metadata": {},
   "outputs": [
    {
     "name": "stdout",
     "output_type": "stream",
     "text": [
      "6.a.)\n",
      " The value of k is: 6\n",
      "Vectors u and v are orthogonal.\n"
     ]
    }
   ],
   "source": [
    "import numpy as np\n",
    "k = 6\n",
    "u = np.array([3, k, -2])\n",
    "v = np.array([6, -4, -3])\n",
    "\n",
    "dot_product = np.dot(u, v)\n",
    "\n",
    "print(\"6.a.)\\n The value of k is:\", k)\n",
    "if dot_product == 0:\n",
    "    print(\"Vectors u and v are orthogonal.\")\n",
    "else:\n",
    "    print(\"Vectors u and v are not orthogonal.\")"
   ]
  },
  {
   "cell_type": "code",
   "execution_count": 45,
   "id": "8de9a95f",
   "metadata": {},
   "outputs": [
    {
     "name": "stdout",
     "output_type": "stream",
     "text": [
      "6.b.)\n",
      " The value of k is: 3\n",
      "Vectors u and v are orthogonal.\n"
     ]
    }
   ],
   "source": [
    "import numpy as np\n",
    "k = 3\n",
    "u = np.array([5, k, -4, 2])\n",
    "v = np.array([1, -3, 2, 2*k])\n",
    "\n",
    "dot_product = np.dot(u, v)\n",
    "\n",
    "print(\"6.b.)\\n The value of k is:\", k)\n",
    "if dot_product == 0:\n",
    "    print(\"Vectors u and v are orthogonal.\")\n",
    "else:\n",
    "    print(\"Vectors u and v are not orthogonal.\")"
   ]
  },
  {
   "cell_type": "code",
   "execution_count": 46,
   "id": "b9b14557",
   "metadata": {},
   "outputs": [
    {
     "name": "stdout",
     "output_type": "stream",
     "text": [
      "6.c.)\n",
      " The value of k is: 1.5\n",
      "Vectors u and v are orthogonal.\n"
     ]
    }
   ],
   "source": [
    "import numpy as np\n",
    "k = 3/2\n",
    "u = np.array([1, 7, k + 2, -2])\n",
    "v = np.array([3, k, -3, k])\n",
    "\n",
    "dot_product = np.dot(u, v)\n",
    "\n",
    "print(\"6.c.)\\n The value of k is:\", k)\n",
    "if dot_product == 0:\n",
    "    print(\"Vectors u and v are orthogonal.\")\n",
    "else:\n",
    "    print(\"Vectors u and v are not orthogonal.\")"
   ]
  },
  {
   "attachments": {},
   "cell_type": "markdown",
   "id": "ea95b390",
   "metadata": {},
   "source": [
    "*Manual Solution for all numbers 1-6*"
   ]
  },
  {
   "attachments": {},
   "cell_type": "markdown",
   "id": "d079f63e",
   "metadata": {},
   "source": [
    "**1.b.) $5\\textbf{u} + 3\\textbf{v} - 4\\textbf{w}$**\n",
    "$$ \\begin{align} 5\\textbf{u} + 3\\textbf{v} - 4\\textbf{w} &= 5(1, (-2), 4) + 3(3, 5, 1) - 4(2, 1, (-3)) \\\\\n",
    "        &= (5, (-10), 20) + (9, 15, 3) - (8, 4, (-12)) \\\\\n",
    "        &= ((5 + 9 - 8), ((-10) + 15 - 4), (20 + 3 - (-12))) \\\\\n",
    "        \\textbf{Answer}&= (6, 1, 35) \\end{align} $$"
   ]
  },
  {
   "attachments": {},
   "cell_type": "markdown",
   "id": "a79235af",
   "metadata": {},
   "source": [
    "**1.c.) $\\textbf{u} \\cdotp \\textbf{v}$, $\\textbf{v} \\cdotp \\textbf{w}$, $\\textbf{u} \\cdotp \\textbf{w}$**\n",
    "\n",
    "$$\n",
    "\\begin{align}\n",
    "    \\textbf{u} \\cdotp \\textbf{v} &= (1)(3) + (-2)(5) + (4)(1) \\\\\n",
    "        &= (3) + (-10) + (4) \\\\\n",
    "    \\textbf{Answer}&= -3\n",
    "\\end{align}\n",
    "$$\n",
    "\n",
    "$$\n",
    "\\begin{align}\n",
    "    \\textbf{v} \\cdotp \\textbf{w} &= (3)(2) + (5)(1) + (1)(-3) \\\\\n",
    "        &= (6) + (5) + (-3) \\\\\n",
    "    \\textbf{Answer}&= 8\n",
    "\\end{align}\n",
    "$$\n",
    "\n",
    "$$\n",
    "\\begin{align}\n",
    "    \\textbf{u} \\cdotp \\textbf{w} &= (1)(2) + (-2)(1) + (4)(-3) \\\\\n",
    "        &= (2) + (-2) + (-12) \\\\\n",
    "    \\textbf{Answer}&= -12\n",
    "\\end{align}\n",
    "$$"
   ]
  },
  {
   "attachments": {},
   "cell_type": "markdown",
   "id": "65c1f07d",
   "metadata": {},
   "source": [
    "**1.d.) $||\\textbf{u}||$, $||\\textbf{v}||$, $||\\textbf{w}||$**\n",
    "$$\n",
    "\\begin{align}\n",
    "    ||\\textbf{u}|| &= \\sqrt{1^2 + (-2)^2 + 4^2} \\\\\n",
    "        &= \\sqrt{1 + 4 + 16} \\\\\n",
    "    \\textbf{Answer}&= \\sqrt{21}\n",
    "\\end{align}\n",
    "$$\n",
    "\n",
    "$$\n",
    "\\begin{align}\n",
    "    ||\\textbf{v}|| &= \\sqrt{3^2 + 5^2 + 1^2} \\\\\n",
    "        &= \\sqrt{9 + 25 + 1} \\\\\n",
    "        \\textbf{Answer}&= \\sqrt{35}\n",
    "\\end{align}\n",
    "$$\n",
    "\n",
    "$$\n",
    "\\begin{align}\n",
    "    ||\\textbf{w}|| &= \\sqrt{2^2 + 1^2 + (-3)^2} \\\\\n",
    "        &= \\sqrt{4 + 1 + 9} \\\\\n",
    "        \\textbf{Answer}&= \\sqrt{14}\n",
    "\\end{align}\n",
    "$$"
   ]
  },
  {
   "attachments": {},
   "cell_type": "markdown",
   "id": "21ceab27",
   "metadata": {},
   "source": [
    "**1.e.) if $\\theta$ is the angle between $\\textbf{u}$ and $\\textbf{v}$, find $\\cos{\\theta}$.**\n",
    "$$\n",
    "\\begin{align}\n",
    "    \\cos{\\theta} &= \\frac{\\textbf{u} \\cdotp \\textbf{v}}{||\\textbf{u}|| \\ ||\\textbf{v}||} \\\\\n",
    "        &= \\frac{(1)(3) + (-2)(5) + (4)(1)}{\\sqrt{1^2 + (-2)^2 + 4^2} \\sqrt{3^2 + 5^2 + 1^2}} \\\\\n",
    "        &= \\frac{3 + (-10) + 4}{\\sqrt{1 + 4 + 16} \\sqrt{9 + 25 + 1}} \\\\\n",
    "        \\textbf{Answer}&= \\frac{-3}{\\sqrt{21} \\sqrt{35}}\n",
    "\\end{align}\n",
    "$$"
   ]
  },
  {
   "attachments": {},
   "cell_type": "markdown",
   "id": "d093f65f",
   "metadata": {},
   "source": [
    "**1.f.) if $\\alpha$ is the angle between $\\textbf{v}$ and $\\textbf{w}$, find $\\cos{\\alpha}$.**\n",
    "$$\n",
    "\\begin{align}\n",
    "    \\cos{\\alpha} &= \\frac{\\textbf{v} \\cdotp \\textbf{w}}{||\\textbf{v}|| \\ ||\\textbf{w}||} \\\\\n",
    "        &= \\frac{(3)(2) + (5)(1) + (1)(-3)}{\\sqrt{3^2 + 5^2 + 1^2} \\sqrt{2^2 + 1^2 + (-3)^2}} \\\\\n",
    "        &= \\frac{6 + 5 + (-3)}{\\sqrt{9 + 25 + 1} \\sqrt{4 + 1 + 9}} \\\\\n",
    "        \\textbf{Answer}&= \\frac{8}{\\sqrt{35} \\sqrt{14}}\n",
    "\\end{align}\n",
    "$$"
   ]
  },
  {
   "attachments": {},
   "cell_type": "markdown",
   "id": "c1def091",
   "metadata": {},
   "source": [
    "**1.g.) if $\\beta$ is the angle between $\\textbf{u}$ and $\\textbf{w}$, find $\\cos{\\beta}$.**\n",
    "$$\n",
    "\\begin{align}\n",
    "    \\cos{\\beta} &= \\frac{\\textbf{u} \\cdotp \\textbf{w}}{||\\textbf{u}|| \\ ||\\textbf{w}||} \\\\\n",
    "        &= \\frac{(1)(2) + (-2)(1) + (4)(-3)}{\\sqrt{1^2 + (-2)^2 + 4^2} \\sqrt{2^2 + 1^2 + (-3)^2}} \\\\\n",
    "        &= \\frac{2 + (-2) + (-12)}{\\sqrt{1 + 4 + 16} \\sqrt{4 + 1 + 9}} \\\\\n",
    "        \\textbf{Answer}&= \\frac{(-12)}{\\sqrt{21} \\sqrt{14}}\n",
    "\\end{align}\n",
    "$$"
   ]
  },
  {
   "attachments": {},
   "cell_type": "markdown",
   "id": "f070166f",
   "metadata": {},
   "source": [
    "**1.h.) Find $d(\\textbf{u}, \\textbf{v})$**\n",
    "$$\n",
    "\\begin{align}\n",
    "    d(\\textbf{u}, \\textbf{v}) &= ||\\textbf{u} - \\textbf{v}|| \\\\\n",
    "        &= \\sqrt{(1 - 3)^2 + ((-2) - 5)^2 + (4 - 1)^2} \\\\\n",
    "        &= \\sqrt{(-2)^2 + (-7)^2 + 3^2} \\\\\n",
    "        &= \\sqrt{4 + 49 + 9} \\\\\n",
    "        \\textbf{Answer}&= \\sqrt{62}\n",
    "\\end{align}\n",
    "$$"
   ]
  },
  {
   "attachments": {},
   "cell_type": "markdown",
   "id": "a18140c8",
   "metadata": {},
   "source": [
    "**1.i.) Find $d(\\textbf{w}, \\textbf{v})$**\n",
    "$$\n",
    "\\begin{align}\n",
    "    d(\\textbf{w}, \\textbf{v}) &= ||\\textbf{w} - \\textbf{v}|| \\\\\n",
    "        &= \\sqrt{(2 - 3)^2 + (1 - 5)^2 + ((-3) - 1)^2} \\\\\n",
    "        &= \\sqrt{(-1)^2 + (-4)^2 + (-4)^2} \\\\\n",
    "        &= \\sqrt{1 + 16 + 16} \\\\\n",
    "        \\textbf{Answer}&= \\sqrt{33}\n",
    "\\end{align}\n",
    "$$"
   ]
  },
  {
   "attachments": {},
   "cell_type": "markdown",
   "id": "15aeb147",
   "metadata": {},
   "source": [
    "**1.j.) Find $d(\\textbf{u}, \\textbf{w})$**\n",
    "$$\n",
    "\\begin{align}\n",
    "    d(\\textbf{u}, \\textbf{w}) &= ||\\textbf{u} - \\textbf{w}|| \\\\\n",
    "        &= \\sqrt{(1 - 2)^2 + ((-2) - 1)^2 + (4 - (-3))^2} \\\\\n",
    "        &= \\sqrt{(-1)^2 + (-3)^2 + 7^2} \\\\\n",
    "        &= \\sqrt{1 + 9 + 49} \\\\\n",
    "        \\textbf{Answer}&= \\sqrt{59}\n",
    "\\end{align}\n",
    "$$\n"
   ]
  },
  {
   "attachments": {},
   "cell_type": "markdown",
   "id": "ad69e0d0",
   "metadata": {},
   "source": [
    "**1.k.) Find $proj(\\textbf{u}, \\textbf{v})$**\n",
    "$$\n",
    "\\begin{align}\n",
    "    proj(\\textbf{u}, \\textbf{v}) &= \\frac{\\textbf{u} \\cdotp \\textbf{v}}{||\\textbf{v}||^2} \\textbf{v} \\\\\n",
    "        &= \\frac{(1)(3) + (-2)(5) + (4)(1)}{(\\sqrt{3^2 + 5^2 + 1^2})^2} (3, 5, 1) \\\\\n",
    "        &= \\frac{3 - 10 + 4}{(\\sqrt{9 + 25 + 1})^2} (3, 5, 1) \\\\\n",
    "        &= \\frac{-3}{(\\sqrt{35})^2} (3, 5, 1) \\\\\n",
    "        &= \\frac{-3}{35} (3, 5, 1) \\\\\n",
    "        \\textbf{Answer}&= (\\frac{-9}{35}, \\frac{-3}{7}, \\frac{-3}{35})\n",
    "\n",
    "\\end{align}\n",
    "$$"
   ]
  },
  {
   "attachments": {},
   "cell_type": "markdown",
   "id": "cd824129",
   "metadata": {},
   "source": [
    "**1.l.) Find $proj(\\textbf{w}, \\textbf{v})$**\n",
    "$$\n",
    "\\begin{align}\n",
    "    proj(\\textbf{w}, \\textbf{v}) &= \\frac{\\textbf{w} \\cdotp \\textbf{v}}{||\\textbf{v}||^2} \\textbf{v} \\\\\n",
    "        &= \\frac{(2)(3) + (1)(5) + (-3)(1)}{(\\sqrt{3^2 + 5^2 + 1^2})^2} (3, 5, 1) \\\\\n",
    "        &= \\frac{6 + 5 - 3}{(\\sqrt{9 + 25 + 1})^2} (3, 5, 1) \\\\\n",
    "        &= \\frac{8}{(\\sqrt{35})^2} (3, 5, 1) \\\\\n",
    "        &= \\frac{8}{35} (3, 5, 1) \\\\\n",
    "        \\textbf{Answer}&= (\\frac{24}{35}, \\frac{8}{7}, \\frac{8}{35})\n",
    "\n",
    "\\end{align}\n",
    "$$"
   ]
  },
  {
   "attachments": {},
   "cell_type": "markdown",
   "id": "8a5785e5",
   "metadata": {},
   "source": [
    "**1.m.) Find $proj(\\textbf{u}, \\textbf{w})$**\n",
    "$$\n",
    "\\begin{align}\n",
    "    proj(\\textbf{u}, \\textbf{w}) &= \\frac{\\textbf{u} \\cdotp \\textbf{w}}{||\\textbf{w}||^2} \\textbf{w} \\\\\n",
    "        &= \\frac{(1)(2) + (-2)(1) + (4)(-3)}{(\\sqrt{2^2 + 1^2 + -3^2})^2} (2, 1, -3) \\\\\n",
    "        &= \\frac{2 - 2 - 12}{(\\sqrt{4 + 1 + 9})^2} (2, 1, -3) \\\\\n",
    "        &= \\frac{-12}{(\\sqrt{14})^2} (2, 1, -3) \\\\\n",
    "        &= \\frac{-6}{7} (2, 1, -3) \\\\\n",
    "        \\textbf{Answer}&= (\\frac{-12}{7}, \\frac{-6}{7}, \\frac{18}{7})\n",
    "\n",
    "\\end{align}\n",
    "$$\n"
   ]
  },
  {
   "attachments": {},
   "cell_type": "markdown",
   "id": "e508ff91",
   "metadata": {},
   "source": [
    "**2.a) $3\\textbf{u} - 2\\textbf{v}$**\n",
    "$$\n",
    "\\begin{align}\n",
    "    3\\textbf{u} - 2\\textbf{v} &=\n",
    "        \\begin{bmatrix}\n",
    "            (3)(1) - (2)(2) \\\\\n",
    "            (3)(3) - (2)(1) \\\\\n",
    "            (3)(-4) - (2)(5) \\\\\n",
    "        \\end{bmatrix} \\\\ &=\n",
    "        \\begin{bmatrix}\n",
    "            3 - 4 \\\\\n",
    "            9 - 2 \\\\\n",
    "            (-12) - 10 \\\\\n",
    "        \\end{bmatrix} \\\\\\textbf{Answer}&=\n",
    "        \\begin{bmatrix}\n",
    "            -1 \\\\\n",
    "            7 \\\\\n",
    "            -22 \\\\\n",
    "        \\end{bmatrix}\n",
    "\\end{align}\n",
    "$$"
   ]
  },
  {
   "attachments": {},
   "cell_type": "markdown",
   "id": "b94496e4",
   "metadata": {},
   "source": [
    "**2.b) $5\\textbf{u} + 3\\textbf{v} - 4\\textbf{w}$**\n",
    "$$\n",
    "\\begin{align}\n",
    "    5\\textbf{u} + 3\\textbf{v} - 4\\textbf{w} &=\n",
    "        \\begin{bmatrix}\n",
    "            (5)(1) + (3)(2) - (4)(3) \\\\\n",
    "            (5)(3) + (3)(1) - (4)(-2) \\\\\n",
    "            (5)(-4) + (3)(5) - (4)(6) \\\\\n",
    "        \\end{bmatrix} \\\\ &=\n",
    "        \\begin{bmatrix}\n",
    "            5 + 6 - 12 \\\\\n",
    "            15 + 3 - (-8) \\\\\n",
    "            (-20) + 15 - 24 \\\\\n",
    "        \\end{bmatrix} \\\\\\textbf{Answer}&=\n",
    "        \n",
    "        \\begin{bmatrix}\n",
    "            -1 \\\\\n",
    "            26 \\\\\n",
    "            -29 \\\\\n",
    "        \\end{bmatrix}\n",
    "\\end{align}\n",
    "$$"
   ]
  },
  {
   "attachments": {},
   "cell_type": "markdown",
   "id": "8186ca59",
   "metadata": {},
   "source": [
    "**2.c) $\\textbf{u} \\cdotp \\textbf{v}$, $\\textbf{v} \\cdotp \\textbf{w}$, $\\textbf{u} \\cdotp \\textbf{w}$**"
   ]
  },
  {
   "attachments": {},
   "cell_type": "markdown",
   "id": "214eea36",
   "metadata": {},
   "source": [
    "$$\n",
    "\\begin{align}\n",
    "    \\textbf{u} \\cdotp \\textbf{v} &= (1)(2) + (3)(1) + (-4)(5) \\\\\n",
    "        &= (2) + (3) + (-20) \\\\\n",
    "    \\textbf{Answer}&= -15\n",
    "\\end{align}\n",
    "$$\n",
    "\n",
    "$$\n",
    "\\begin{align}\n",
    "    \\textbf{v} \\cdotp \\textbf{w} &= (2)(3) + (1)(-2) + (5)(6) \\\\\n",
    "        &= (6) + (-2) + (30) \\\\\n",
    "    \\textbf{Answer}&= 34\n",
    "\\end{align}\n",
    "$$\n",
    "\n",
    "$$\n",
    "\\begin{align}\n",
    "    \\textbf{u} \\cdotp \\textbf{w} &= (1)(3) + (3)(-2) + (-4)(6) \\\\\n",
    "        &= (3) + (-6) + (-24) \\\\\n",
    "    \\textbf{Answer}&= -27\n",
    "\\end{align}\n",
    "$$"
   ]
  },
  {
   "attachments": {},
   "cell_type": "markdown",
   "id": "f210bdc2",
   "metadata": {},
   "source": [
    "**2.d) $||\\textbf{u}||$, $||\\textbf{v}||$, $||\\textbf{w}||$**\n",
    "$$\n",
    "\\begin{align}\n",
    "    ||\\textbf{u}|| &= \\sqrt{1^2 + 3^2 + (-4)^2} \\\\\n",
    "        &= \\sqrt{1 + 9 + 16} \\\\\n",
    "     &= \\sqrt{26}\n",
    "\\end{align}\n",
    "$$\n",
    "\n",
    "$$\n",
    "\\begin{align}\n",
    "    ||\\textbf{v}|| &= \\sqrt{2^2 + 1^2 + 5^2} \\\\\n",
    "        &= \\sqrt{4 + 1 + 25} \\\\\n",
    "        &= \\sqrt{30}\n",
    "\\end{align}\n",
    "$$\n",
    "\n",
    "$$\n",
    "\\begin{align}\n",
    "    ||\\textbf{w}|| &= \\sqrt{3^2 + (-2)^2 + 6^2} \\\\\n",
    "        &= \\sqrt{9 + 4 + 36} \\\\\n",
    "        &= \\sqrt{49}\n",
    "\\end{align}\n",
    "$$"
   ]
  },
  {
   "attachments": {},
   "cell_type": "markdown",
   "id": "e1a09452",
   "metadata": {},
   "source": [
    "**2.e) if $\\theta$ is the angle between $\\textbf{u}$ and $\\textbf{v}$, find $\\cos{\\theta}$.**\n",
    "$$\n",
    "\\begin{align}\n",
    "    \\cos{\\theta} &= \\frac{\\textbf{u} \\cdotp \\textbf{v}}{||\\textbf{u}|| \\ ||\\textbf{v}||} \\\\\n",
    "        &= \\frac{(1)(2) + (3)(1) + (-4)(5)}{\\sqrt{1^2 + 3^2 + (-4)^2} \\sqrt{2^2 + 1^2 + 5^2}} \\\\\n",
    "        &= \\frac{2 + 3 + (-20)}{\\sqrt{1 + 9 + 16} \\sqrt{4 + 1 + 25}} \\\\\n",
    "        &= \\frac{-15}{\\sqrt{26} \\sqrt{30}}\n",
    "\\end{align}\n",
    "$$\n"
   ]
  },
  {
   "attachments": {},
   "cell_type": "markdown",
   "id": "0592e086",
   "metadata": {},
   "source": [
    "**2.f) if $\\alpha$ is the angle between $\\textbf{v}$ and $\\textbf{w}$, find $\\cos{\\alpha}$.**\n",
    "$$\n",
    "\\begin{align}\n",
    "    \\cos{\\alpha} &= \\frac{\\textbf{v} \\cdotp \\textbf{w}}{||\\textbf{v}|| \\ ||\\textbf{w}||} \\\\\n",
    "        &= \\frac{(2)(3) + (1)(-2) + (5)(6)}{\\sqrt{2^2 + 1^2 + 5^2} \\sqrt{3^2 + (-2)^2 + 6^2}} \\\\\n",
    "        &= \\frac{6 + (-2) + 30}{\\sqrt{4 + 1 + 25} \\sqrt{9 + 4 + 36}} \\\\\n",
    "         &= \\frac{34}{\\sqrt{30} \\sqrt{49}}\n",
    "\\end{align}\n",
    "$$"
   ]
  },
  {
   "attachments": {},
   "cell_type": "markdown",
   "id": "4ec8dc95",
   "metadata": {},
   "source": [
    "**2.g) if $\\beta$ is the angle between $\\textbf{u}$ and $\\textbf{w}$, find $\\cos{\\beta}$.**\n",
    "\n",
    "\n",
    "$$\n",
    "\\begin{align}\n",
    "    \\cos{\\beta} &= \\frac{\\textbf{u} \\cdotp \\textbf{w}}{||\\textbf{u}|| \\ ||\\textbf{w}||} \\\\\n",
    "        &= \\frac{(1)(3) + (3)(-2) + (-4)(6)}{\\sqrt{1^2 + 3^2 + (-4)^2} \\sqrt{3^2 + (-2)^2 + 6^2}} \\\\\n",
    "        &= \\frac{3 + (-6) + (-24)}{\\sqrt{1 + 9 + 16} \\sqrt{9 + 4 + 36}} \\\\\n",
    "        &= \\frac{(-27)}{\\sqrt{26} \\sqrt{49}}\n",
    "\\end{align}\n",
    "$$"
   ]
  },
  {
   "attachments": {},
   "cell_type": "markdown",
   "id": "fc110075",
   "metadata": {},
   "source": [
    "**2.h) Find $d(\\textbf{u}, \\textbf{v})$**\n",
    "\n",
    "$$\n",
    "\\begin{align}\n",
    "    d(\\textbf{u}, \\textbf{v}) &= ||\\textbf{u} - \\textbf{v}|| \\\\\n",
    "        &= \\sqrt{(1 - 2)^2 + (3 - 1)^2 + ((-4) - 5)^2} \\\\\n",
    "        &= \\sqrt{(-1)^2 + 2^2 + (-9)^2} \\\\\n",
    "        &= \\sqrt{1 + 4 + 81} \\\\\n",
    "        &= \\sqrt{86}\n",
    "\\end{align}\n",
    "$$"
   ]
  },
  {
   "attachments": {},
   "cell_type": "markdown",
   "id": "9674f626",
   "metadata": {},
   "source": [
    "**2.i) Find $d(\\textbf{w}, \\textbf{v})$**\n",
    "$$\n",
    "\\begin{align}\n",
    "    d(\\textbf{w}, \\textbf{v}) &= ||\\textbf{w} - \\textbf{v}|| \\\\\n",
    "        &= \\sqrt{(3 - 2)^2 + ((-2) - 1)^2 + (6 - 5)^2} \\\\\n",
    "        &= \\sqrt{1^2 + (-3)^2 + 1^2} \\\\\n",
    "        &= \\sqrt{1 + 9 + 1} \\\\\n",
    "        &= \\sqrt{11}\n",
    "\\end{align}\n",
    "$$"
   ]
  },
  {
   "attachments": {},
   "cell_type": "markdown",
   "id": "10b81aeb",
   "metadata": {},
   "source": [
    "**2.j) Find $d(\\textbf{u}, \\textbf{w})$**\n",
    "$$\n",
    "\\begin{align}\n",
    "    d(\\textbf{u}, \\textbf{w}) &= ||\\textbf{u} - \\textbf{w}|| \\\\\n",
    "        &= \\sqrt{(1 - 3)^2 + (3 - (-2))^2 + ((-4) - 6)^2} \\\\\n",
    "        &= \\sqrt{(-2)^2 + 5^2 + (-10)^2} \\\\\n",
    "        &= \\sqrt{4 + 25 + 100} \\\\\n",
    "        &= \\sqrt{129}\n",
    "\\end{align}\n",
    "$$"
   ]
  },
  {
   "attachments": {},
   "cell_type": "markdown",
   "id": "ef168bc2",
   "metadata": {},
   "source": [
    "**2.k) Find $proj(\\textbf{u}, \\textbf{v})$**\n",
    "$$\n",
    "\\begin{align}\n",
    "    proj(\\textbf{u}, \\textbf{v}) &= \\frac{\\textbf{u} \\cdotp \\textbf{v}}{||\\textbf{v}||^2} \\textbf{v} \\\\\n",
    "        &= \\frac{(1)(2) + (3)(1) + (-4)(5)}{(\\sqrt{2^2 + 1^2 + 5^2})^2} (2, 1, 5) \\\\\n",
    "        &= \\frac{2 + 3 + (-20)}{(\\sqrt{4 + 1 + 25})^2} (2, 1, 5) \\\\\n",
    "        &= \\frac{-15}{(\\sqrt{30})^2} (2, 1, 5) \\\\\n",
    "        &= \\frac{-15}{30} (2, 1, 5) \\\\\n",
    "        &= (-1, \\frac{-1}{2}, \\frac{-5}{2})\n",
    "\n",
    "\\end{align}\n",
    "$$"
   ]
  },
  {
   "attachments": {},
   "cell_type": "markdown",
   "id": "c8c701dd",
   "metadata": {},
   "source": [
    "**2.l) Find $proj(\\textbf{w}, \\textbf{v})$**\n",
    "$$\n",
    "\\begin{align}\n",
    "    proj(\\textbf{w}, \\textbf{v}) &= \\frac{\\textbf{w} \\cdotp \\textbf{v}}{||\\textbf{v}||^2} \\textbf{v} \\\\\n",
    "        &= \\frac{(3)(2) + (-2)(1) + (6)(5)}{(\\sqrt{2^2 + 1^2 + 5^2})^2} (2, 1, 5)) \\\\\n",
    "        &= \\frac{6 + (-2) + 30}{(\\sqrt{4 + 1 + 25})^2} (2, 1, 5) \\\\\n",
    "        &= \\frac{34}{(\\sqrt{30})^2} (2, 1, 5) \\\\\n",
    "        &= \\frac{34}{30} (2, 1, 5) \\\\\n",
    "        &= (\\frac{68}{30}, \\frac{34}{30}, \\frac{170}{30})\n",
    "\n",
    "\\end{align}\n",
    "$$"
   ]
  },
  {
   "attachments": {},
   "cell_type": "markdown",
   "id": "dc890085",
   "metadata": {},
   "source": [
    "**2.m) Find $proj(\\textbf{u}, \\textbf{w})$**\n",
    "$$\n",
    "\\begin{align}\n",
    "    proj(\\textbf{u}, \\textbf{w}) &= \\frac{\\textbf{u} \\cdotp \\textbf{w}}{||\\textbf{w}||^2} \\textbf{w} \\\\\n",
    "        &= \\frac{(1)(3) + (3)(-2) + (-4)(6)}{(\\sqrt{3^2 + (-2)^2 + 6^2})^2} (3, -2, 6) \\\\\n",
    "        &= \\frac{3 - 6 - 24}{(\\sqrt{9 + 4 + 36})^2} (3, -2, 6) \\\\\n",
    "        &= \\frac{-27}{(\\sqrt{49})^2} (3, -2, 6) \\\\\n",
    "        &= \\frac{-27}{49} (3, -2, 6) \\\\\n",
    "        &= (\\frac{-81}{49}, \\frac{54}{49}, \\frac{-162}{49})\n",
    "\n",
    "\\end{align}\n",
    "$$"
   ]
  },
  {
   "attachments": {},
   "cell_type": "markdown",
   "id": "82b8653e",
   "metadata": {},
   "source": [
    "**3.a) Let $\\textbf{u}$ = (2, -5, 4, 6, -3), $\\textbf{v}$ = (5, -2, 1, -7, 4), $\\textbf{w}$ = (2, 1, -3)**\n",
    "$$\n",
    "\\begin{align}\n",
    "    4\\textbf{u} - 3\\textbf{v} &= 4(2, (-5), 4, 6, (-3)) - 3(5, (-2), 1, (-7), 4) \\\\\n",
    "        &= (8, (-20), 16, 24, (-12)) - (15, (-6), 3, (-21), 12) \\\\\n",
    "        &= ((8 - 15), ((-20) - (-6)), (16 - 3), (24 - (-21)), ((-12) - 12)) \\\\\n",
    "        &= (-7, -14, 13, 45, -24)\n",
    "\\end{align}\n",
    "$$"
   ]
  },
  {
   "attachments": {},
   "cell_type": "markdown",
   "id": "324a4a2b",
   "metadata": {},
   "source": [
    "**3.b) 5$\\textbf{u}$ + 2$\\textbf{v}$ - 2$\\textbf{w}$**\n",
    "$$\n",
    "\\begin{align}\n",
    "    5\\textbf{u} + 2\\textbf{v} - 2\\textbf{w} &= 5(2, (-5), 4, 6, (-3)) + 2(5, (-2), 1, (-7), (-4)) - 2(2, 1, (-3), 0, 0) \\\\\n",
    "        &= (10, (-25), 20, 30, (-15)) + (10, (-4), 2, (-14), (-8)) - (4, 2, (-6), 0, 0) \\\\\n",
    "        &= ((10 + 10 -4), ((-25) + (-4) - 2), (20 + 2 - (-6)), (30 + (-14) - 0), ((-15) + (-8) - 0)) \\\\\n",
    "        &= (16, (-31), 28, 16, (-23))\n",
    "\\end{align}\n",
    "$$"
   ]
  },
  {
   "attachments": {},
   "cell_type": "markdown",
   "id": "c9112a94",
   "metadata": {},
   "source": [
    "**3.c) $\\textbf{u} \\cdotp \\textbf{v}$, $\\textbf{v} \\cdotp \\textbf{w}$, $\\textbf{u} \\cdotp \\textbf{w}$**\n",
    "$$\n",
    "\\begin{align}\n",
    "    \\textbf{u} \\cdotp \\textbf{v} &= (2)(5) + (-5)(-2) + (4)(1) + (6)(-7) + (-3)(-4) \\\\\n",
    "        &= 10 + 10 + 4 + (-42) + 12 \\\\\n",
    "        \\textbf{u} \\cdotp \\textbf{v} &= -6\n",
    "\\end{align}\n",
    "$$\n",
    "\n",
    "$$\n",
    "\\begin{align}\n",
    "    \\textbf{v} \\cdotp \\textbf{w} &= (5)(2) + (-2)(1) + (1)(-3) + (-7)(0) + (-4)(0) \\\\\n",
    "        &= 10 + (-2) + (-3) + 0 + 0 \\\\\n",
    "        \\textbf{u} \\cdotp \\textbf{v} &= 5\n",
    "\\end{align}\n",
    "$$\n",
    "\n",
    "$$\n",
    "\\begin{align}\n",
    "    \\textbf{u} \\cdotp \\textbf{v} &= (2)(2) + (-5)(1) + (4)(-3) + (6)(0) + (-3)(0) \\\\\n",
    "        &= 4 + (-5) + (-12) + 0 + 0 \\\\\n",
    "        \\textbf{u} \\cdotp \\textbf{v} &= -13\n",
    "\\end{align}\n",
    "$$"
   ]
  },
  {
   "attachments": {},
   "cell_type": "markdown",
   "id": "0cb7075c",
   "metadata": {},
   "source": [
    "**3.d) $||\\textbf{u}||$, $||\\textbf{v}||$, $||\\textbf{w}||$**\n",
    "$$\n",
    "\\begin{align}\n",
    "    ||\\textbf{u}|| &= \\sqrt{2^2 + (-5)^2 + 4^2 + 6^2 + (-3)^2} \\\\\n",
    "        &= \\sqrt{4 + 25 + 16 + 36 + 9} \\\\\n",
    "        ||\\textbf{u}|| &= \\sqrt{90}\n",
    "\\end{align}\n",
    "$$\n",
    "\n",
    "$$\n",
    "\\begin{align}\n",
    "    ||\\textbf{v}|| &= \\sqrt{5^2 + (-2)^2 + 1^2 + (-7)^2 + (-4)^2} \\\\\n",
    "        &= \\sqrt{25 + 4 + 1 + 49 + 16} \\\\\n",
    "        ||\\textbf{u}|| &= \\sqrt{95}\n",
    "\\end{align}\n",
    "$$\n",
    "\n",
    "$$\n",
    "\\begin{align}\n",
    "    ||\\textbf{w}|| &= \\sqrt{2^2 + 1^2 + (-3)^2 + 0^2 + 0^2} \\\\\n",
    "        &= \\sqrt{4 + 1 + 9 + 0 + 0} \\\\\n",
    "        ||\\textbf{u}|| &= \\sqrt{14}\n",
    "\\end{align}\n",
    "$$"
   ]
  },
  {
   "attachments": {},
   "cell_type": "markdown",
   "id": "b2624bd7",
   "metadata": {},
   "source": [
    "**3.e) If $\\theta$ is the angle between $\\textbf{u}$ and $\\textbf{v}$, find cos $\\theta$.**\n",
    "$$\n",
    "\\begin{align}\n",
    "    \\cos \\theta &= \\frac{\\textbf{u} \\cdotp \\textbf{v}}{||\\textbf{u}|| ||\\textbf{v}||} \\\\\n",
    "        &= \\frac{(2)(5) + (-5)(-2) + (4)(1) + (6)(-7) + (-3)(-4)}{\\sqrt{2^2 + (-5)^2 + 4^2 + 6^2 + (-3)^2}\n",
    "            \\sqrt{5^2 + (-2)^2 + 1^2 + (-7)^2 + (-4)^2}} \\\\\n",
    "        &= \\frac{10 + 10 + 4 + (-42) + 12}{\\sqrt{4 + 25 + 16 + 36 + 9} \\sqrt{25 + 4 + 1 + 49 + 16}} \\\\\n",
    "        &= \\frac{-6}{\\sqrt{90} \\sqrt{95}}\n",
    "\\end{align}\n",
    "$$"
   ]
  },
  {
   "attachments": {},
   "cell_type": "markdown",
   "id": "8052f1a8",
   "metadata": {},
   "source": [
    "**3.f) If $\\alpha$ is the angle between $\\textbf{v}$ and $\\textbf{w}$, find cos $\\alpha$.**\n",
    "$$\n",
    "\\begin{align}\n",
    "    \\cos \\alpha &= \\frac{\\textbf{v} \\cdotp \\textbf{w}}{||\\textbf{v}|| ||\\textbf{w}||} \\\\\n",
    "        &= \\frac{(5)(2) + (-2)(1) + (1)(-3) + (-7)(0) + (-4)(0)}{\\sqrt{5^2 + (-2)^2 + 1^2 + (-7)^2 + (-4)^2}\n",
    "            \\sqrt{2^2 + 1^2 + (-3)^2 + 0^2 + 0^2}} \\\\\n",
    "        &= \\frac{10 + (-2) + (-3) + 0 + 0}{\\sqrt{25 + 4 + 1 + 49 + 16} \\sqrt{4 + 1 + 9 + 0 + 0}} \\\\\n",
    "        &= \\frac{5}{\\sqrt{95} \\sqrt{14}}\n",
    "\\end{align}\n",
    "$$"
   ]
  },
  {
   "attachments": {},
   "cell_type": "markdown",
   "id": "13cf1922",
   "metadata": {},
   "source": [
    "**3.g) If $\\beta$ is the angle between $\\textbf{u}$ and $\\textbf{w}$, find cos $\\beta$.**\n",
    "$$\n",
    "\\begin{align}\n",
    "    \\cos \\beta &= \\frac{\\textbf{u} \\cdotp \\textbf{w}}{||\\textbf{u}|| ||\\textbf{w}||} \\\\\n",
    "        &= \\frac{(2)(2) + (-5)(1) + (4)(-3) + (6)(0) + (-3)(0)}{\\sqrt{2^2 + (-5)^2 + 4^2 + 6^2 + (-3)^2}\n",
    "            \\sqrt{2^2 + 1^2 + (-3)^2 + 0^2 + 0^2}} \\\\\n",
    "        &= \\frac{4 + (-5) + (-12) + 0 + 0}{\\sqrt{4 + 25 + 16 + 36 + 9} \\sqrt{4 + 1 + 9 + 0 + 0}} \\\\\n",
    "        &= \\frac{-13}{\\sqrt{90} \\sqrt{14}}\n",
    "\\end{align}\n",
    "$$"
   ]
  },
  {
   "attachments": {},
   "cell_type": "markdown",
   "id": "bb45ac65",
   "metadata": {},
   "source": [
    "**3.h) Find $d(\\textbf{u}, \\textbf{v})$.**\n",
    "$$\n",
    "\\begin{align}\n",
    "    d(\\textbf{u}, \\textbf{v}) &= ||\\textbf{u - v}|| \\\\\n",
    "        &= \\sqrt{(2 - 5)^2 + ((-5) - (-2))^2 + (4 - 1)^2 + (6 - (-7))^2 + ((-3) - (-4))^2} \\\\\n",
    "        &= \\sqrt{(-3)^2 + (-3)^2 + 3^2 + 13^2 + 1^2} \\\\\n",
    "        &= \\sqrt{9 + 9 + 9 + 169 + 1} \\\\\n",
    "        &= \\sqrt{197}\n",
    "\\end{align}\n",
    "$$"
   ]
  },
  {
   "attachments": {},
   "cell_type": "markdown",
   "id": "cb97e137",
   "metadata": {},
   "source": [
    "**3.i) Find $d(\\textbf{w}, \\textbf{v})$.**\n",
    "$$\n",
    "\\begin{align}\n",
    "    d(\\textbf{w}, \\textbf{v}) &= ||\\textbf{w - v}|| \\\\\n",
    "        &= \\sqrt{(2 - 5)^2 + (1 - (-2))^2 + ((-3) - 1)^2 + (0 - (-7))^2 + (0 - (-4))^2} \\\\\n",
    "        &= \\sqrt{(-3)^2 + 3^2 + 4^2 + 7^2 + 4^2} \\\\\n",
    "        &= \\sqrt{9 + 9 + 16 + 49 + 16} \\\\\n",
    "        &= \\sqrt{99}\n",
    "\\end{align}\n",
    "$$"
   ]
  },
  {
   "attachments": {},
   "cell_type": "markdown",
   "id": "e47474c3",
   "metadata": {},
   "source": [
    "**3.j) Find $d(\\textbf{u}, \\textbf{w})$.**\n",
    "$$\n",
    "\\begin{align}\n",
    "    d(\\textbf{u}, \\textbf{w}) &= ||\\textbf{u - w}|| \\\\\n",
    "        &= \\sqrt{(2 - 2)^2 + ((-5) - 1)^2 + (4 - (-3))^2 + (6 - 0)^2 + ((-3) - 0)^2} \\\\\n",
    "        &= \\sqrt{0^2 + (-6)^2 + 7^2 + 6^2 + (-3)^2} \\\\\n",
    "        &= \\sqrt{0 + 36 + 49 + 36 + 9} \\\\\n",
    "        &= \\sqrt{130}\n",
    "\\end{align}\n",
    "$$"
   ]
  },
  {
   "attachments": {},
   "cell_type": "markdown",
   "id": "d5418143",
   "metadata": {},
   "source": [
    "**3.k) Find $proj(\\textbf{u}, \\textbf{v})$.**\n",
    "$$\n",
    "\\begin{align}\n",
    "    proj(\\textbf{u}, \\textbf{v}) &= \\frac{\\textbf{u} \\cdotp \\textbf{v}}{||\\textbf{v}||^2}\\textbf{v} \\\\\n",
    "        &= \\frac{(2)(5) + (-5)(-2) + (4)(1) + (6)(-7) + (-3)(-4)}{(\\sqrt{5^2 + (-2)^2 + 1^2 + (-7)^2 + (-4)^2})^2} (5, -2, 1, -7, -4) \\\\\n",
    "        &= \\frac{10 + 10 + 4 + (-42) + 12}{(\\sqrt{25 + 4 + 1 + 49 + 16})^2} (5, -2, 1, -7, -4) \\\\\n",
    "        &= \\frac{-6}{(\\sqrt{95})^2} (5, -2, 1, -7, -4) \\\\\n",
    "        &= \\frac{-6}{95} (5, -2, 1, -7, -4) \\\\\n",
    "        &= (\\frac{-6}{19}, \\frac{12}{95}, \\frac{-6}{95}, \\frac{42}{95}, \\frac{24}{95})\n",
    "\\end{align}\n",
    "$$"
   ]
  },
  {
   "attachments": {},
   "cell_type": "markdown",
   "id": "114bd1c0",
   "metadata": {},
   "source": [
    "**3.l) Find $proj(\\textbf{w}, \\textbf{v})$.**\n",
    "$$\n",
    "\\begin{align}\n",
    "    proj(\\textbf{w}, \\textbf{v}) &= \\frac{\\textbf{w} \\cdotp \\textbf{v}}{||\\textbf{v}||^2}\\textbf{v} \\\\\n",
    "        &= \\frac{(2)(5) + (1)(-2) + (-3)(1) + (0)(-7) + (0)(-4)}{(\\sqrt{5^2 + (-2)^2 + 1^2 + (-7)^2 + (-4)^2})^2} (5, -2, 1, -7, -4) \\\\\n",
    "        &= \\frac{10 + (-2) + (-3) + 0 + 0}{(\\sqrt{25 + 4 + 1 + 49 + 16})^2} (5, -2, 1, -7, -4) \\\\\n",
    "        &= \\frac{5}{(\\sqrt{95})^2} (5, -2, 1, -7, -4) \\\\\n",
    "        &= \\frac{5}{95} (5, -2, 1, -7, -4) \\\\\n",
    "        &= (\\frac{5}{19}, \\frac{-2}{19}, \\frac{5}{95}, \\frac{-7}{19}, \\frac{-4}{19})\n",
    "\\end{align}\n",
    "$$"
   ]
  },
  {
   "attachments": {},
   "cell_type": "markdown",
   "id": "f1c577c7",
   "metadata": {},
   "source": [
    "**3.m) Find $proj(\\textbf{u}, \\textbf{w})$.**\n",
    "$$\n",
    "\\begin{align}\n",
    "    proj(\\textbf{u}, \\textbf{w}) &= \\frac{\\textbf{u} \\cdotp \\textbf{w}}{||\\textbf{w}||^2}\\textbf{w} \\\\\n",
    "        &= \\frac{(2)(2) + (-5)(1) + (4)(-3) + (6)(0) + (-3)(0)}{(\\sqrt{2^2 + 1^2 + (-3)^2 + 0^2 + 0^2})^2} (2, 1, -3, 0, 0) \\\\\n",
    "        &= \\frac{4 + (-5) + (-12) + 0 + 0}{(\\sqrt{4 + 1 + 9 + 0 + 0})^2} (2, 1, -3, 0, 0) \\\\\n",
    "        &= \\frac{-13}{(\\sqrt{14})^2} (2, 1, -3, 0, 0) \\\\\n",
    "        &= \\frac{-13}{14} (2, 1, -3, 0, 0) \\\\\n",
    "        &= (\\frac{-13}{7}, \\frac{-13}{14}, \\frac{39}{14}, 0, 0)\n",
    "\\end{align}\n",
    "$$"
   ]
  },
  {
   "attachments": {},
   "cell_type": "markdown",
   "id": "adb72d3e",
   "metadata": {},
   "source": [
    "**4.a) Normalize each vector:**\n",
    "**a. $\\textbf{u}$ = (5, -7).**\n",
    "$$\n",
    "\\begin{align}\n",
    "    ||\\textbf{u}|| &= \\sqrt{5^2 + (-7)^2} \\\\\n",
    "        &= \\sqrt{25 + 49} \\\\\n",
    "        &= \\sqrt{74}\n",
    "\\end{align}\n",
    "$$"
   ]
  },
  {
   "attachments": {},
   "cell_type": "markdown",
   "id": "382b3868",
   "metadata": {},
   "source": [
    "**4.b) $\\textbf{v}$ = (1, 2, -2, 4).**\n",
    "$$\n",
    "\\begin{align}\n",
    "    ||\\textbf{v}|| &= \\sqrt{1^2 + 2^2 + (-2)^2 + 4^2} \\\\\n",
    "        &= \\sqrt{1 + 4 + 4 + 16} \\\\\n",
    "        &= \\sqrt{25}\n",
    "\\end{align}\n",
    "$$"
   ]
  },
  {
   "attachments": {},
   "cell_type": "markdown",
   "id": "40f2a780",
   "metadata": {},
   "source": [
    "**4.c) $\\textbf{w} = (\\frac{1}{2}, \\frac{-1}{3}, \\frac{3}{4})$.**\n",
    "$$\n",
    "\\begin{align}\n",
    "    ||\\textbf{w}|| &= \\sqrt{\\frac{1}{2}^2 + \\frac{-1}{3}^2 + \\frac{3}{4}^2} \\\\\n",
    "        &= \\sqrt{\\frac{1}{4} + \\frac{1}{9} + \\frac{9}{16}} \\\\\n",
    "        &= \\sqrt{\\frac{133}{144}}\n",
    "\\end{align}\n",
    "$$"
   ]
  },
  {
   "attachments": {},
   "cell_type": "markdown",
   "id": "714d557f",
   "metadata": {},
   "source": [
    "**5.) Let $\\textbf{u}$ = (1, 2, -2), $\\textbf{v}$ = (3, -12, 4) and a scalar $k$ = -3:**\n",
    "**Find ||$\\textbf{u}$||, ||$\\textbf{v}$||, ||$\\textbf{u + v}$||, ||$\\textbf{ku}$||.**\n",
    "$$\n",
    "\\begin{align}\n",
    "    ||\\textbf{u}|| &= \\sqrt{1^2 + 2^2 + (-2)^2} \\\\\n",
    "        &= \\sqrt{2 + 4 + 4} \\\\\n",
    "        &= \\sqrt{9}\n",
    "\\end{align}\n",
    "$$\n",
    "\n",
    "$$\n",
    "\\begin{align}\n",
    "    ||\\textbf{v}|| &= \\sqrt{3^2 + (-12)^2 + 4^2} \\\\\n",
    "        &= \\sqrt{9 + 144 + 16} \\\\\n",
    "        &= \\sqrt{169}\n",
    "\\end{align}\n",
    "$$\n",
    "\n",
    "$$\n",
    "\\begin{align}\n",
    "    ||\\textbf{u + v}|| &= \\sqrt{(1 + 3)^2 + (2 + (-12))^2 + ((-2) + 4)^2} \\\\\n",
    "        &= \\sqrt{4^2 + (-10)^2 + 2^2} \\\\\n",
    "        &= \\sqrt{16 + 100 + 4} \\\\\n",
    "        &= \\sqrt{120}\n",
    "\\end{align}\n",
    "$$\n",
    "\n",
    "$$\n",
    "\\begin{align}\n",
    "    ||\\textbf{ku}|| &= \\sqrt{((-3)(1))^2 + ((-3)(2))^2 + ((-3)(-2))^2} \\\\\n",
    "        &= \\sqrt{(-3)^2 + (-6)^2 + 6^2} \\\\\n",
    "        &= \\sqrt{9 + 36 + 36} \\\\\n",
    "        &= \\sqrt{81}\n",
    "\\end{align}\n",
    "$$"
   ]
  },
  {
   "attachments": {},
   "cell_type": "markdown",
   "id": "ddb5ec05",
   "metadata": {},
   "source": [
    "**6.a) Find $\\textbf{k}$ so that $\\textbf{u}$ and $\\textbf{v}$ are orthogonal.**\n",
    "**$\\textbf{u}$ = (3, $\\textbf{k}$, -2), $\\textbf{v}$ = (6, -4, -3).**\n",
    "$$\n",
    "\\begin{align}\n",
    "    \\textbf{u} \\cdotp \\textbf{v} &= 0 \\\\\n",
    "        (3)(6) + (\\textbf{k})(-4) + (-2)(-3) &= 0 \\\\\n",
    "        18 + (-4k) + 6 &= 0 \\\\\n",
    "        -4k + 24 &= 0 \\\\\n",
    "        &= \\frac{-24}{-4} \\\\\n",
    "        k &= 6\n",
    "\\end{align}\n",
    "$$"
   ]
  },
  {
   "attachments": {},
   "cell_type": "markdown",
   "id": "5eb461b2",
   "metadata": {},
   "source": [
    "**6.b) $\\textbf{u}$ = (5, $\\textbf{k}$, -4, 2), $\\textbf{v}$ = (1, -3, 2, 2$\\textbf{k}$).**\n",
    "$$\n",
    "\\begin{align}\n",
    "    \\textbf{u} \\cdotp \\textbf{v} &= 0 \\\\\n",
    "        (5)(1) + (\\textbf{k})(-3) + (-4)(2) + (2)(2\\textbf{k}) &= 0 \\\\\n",
    "        5 + (-3\\textbf{k}) + (-8) + 4\\textbf{k} &= 0 \\\\\n",
    "        &= (-5) + 8 \\\\\n",
    "        \\textbf{k} = 3\n",
    "\\end{align}\n",
    "$$"
   ]
  },
  {
   "attachments": {},
   "cell_type": "markdown",
   "id": "82ced1db",
   "metadata": {},
   "source": [
    "**6.c) $\\textbf{u}$ = (1, 7, $\\textbf{k}$ + 2, -2), $\\textbf{v}$ = (3, $\\textbf{k}$, -3, $\\textbf{k}$).**\n",
    "$$\n",
    "\\begin{align}\n",
    "    \\textbf{u} \\cdotp \\textbf{v} &= 0 \\\\\n",
    "    (1)(3) + (7)(\\textbf{k}) + (\\textbf{k} + 2)(-3) + (-2)(\\textbf{k}) &= 0 \\\\\n",
    "    3 + 7\\textbf{k} + (-3\\textbf{k} - 6) + -2\\textbf{k} &= 0 \\\\\n",
    "    7\\textbf{k} -3\\textbf{k} -2\\textbf{k} + 3 - 6 &= 0 \\\\\n",
    "    2k - 3 &= 0 \\\\\n",
    "    \\frac{2k}{2} &= \\frac{3}{2} \\\\\n",
    "    k &= \\frac{3}{2}\n",
    "\\end{align}\n",
    "$$"
   ]
  }
 ],
 "metadata": {
  "kernelspec": {
   "display_name": "Python 3 (ipykernel)",
   "language": "python",
   "name": "python3"
  },
  "language_info": {
   "codemirror_mode": {
    "name": "ipython",
    "version": 3
   },
   "file_extension": ".py",
   "mimetype": "text/x-python",
   "name": "python",
   "nbconvert_exporter": "python",
   "pygments_lexer": "ipython3",
   "version": "3.12.0"
  }
 },
 "nbformat": 4,
 "nbformat_minor": 5
}
