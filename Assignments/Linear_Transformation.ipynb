{
 "cells": [
  {
   "cell_type": "markdown",
   "id": "1f60a1e4-7e6b-4a92-b772-c91766f0c81c",
   "metadata": {},
   "source": [
    "# <font color=red> CODE CHALLENGES </font>"
   ]
  },
  {
   "cell_type": "markdown",
   "id": "38d7f2b2-63d4-442d-aa0e-4b74bf585ebc",
   "metadata": {},
   "source": [
    "$\\textbf{Code Challenges}$\n",
    "\n",
    "1. Develop a python function from scratch that will find the determinants of any $n \\times n$ matrix.\n",
    "\n",
    "2. Develop a python function from scratch that will find both the eigenvectors and eigenvalues of any $n \\times n$ matrix.\n",
    "\n",
    "3. Test your functions from a randomly generated $n \\times n$ matrix."
   ]
  },
  {
   "cell_type": "markdown",
   "id": "af026db5",
   "metadata": {},
   "source": [
    "**1. Develop a python function from scratch that will find the determinants of any $n \\times n$ matrix.**"
   ]
  },
  {
   "cell_type": "code",
   "execution_count": 1,
   "id": "474776fd",
   "metadata": {},
   "outputs": [],
   "source": [
    "def mat_det(A):\n",
    "    assert len(A) == 0 or all(isinstance(row, list) for row in A) and len(A) == len(A[0]), \"A should be a square matrix.\"\n",
    "\n",
    "    n = len(A)\n",
    "    if n == 0:\n",
    "        return 1.\n",
    "    elif n == 1:\n",
    "        return A[0][0]\n",
    "    elif n == 2:\n",
    "        return A[0][0] * A[1][1] - A[0][1] * A[1][0]\n",
    "\n",
    "    return sum((-1) ** col * cofactor * mat_det([[A[i][j] for j in range(n) if j != col] for i in range(1, n)]) for col, cofactor in enumerate(A[0]))\n"
   ]
  },
  {
   "cell_type": "markdown",
   "id": "0ec424a1",
   "metadata": {},
   "source": [
    "**2. Develop a python function from scratch that will find both the eigenvectors and eigenvalues of any $n \\times n$ matrix.**"
   ]
  },
  {
   "cell_type": "code",
   "execution_count": 5,
   "id": "ad3b43a5",
   "metadata": {},
   "outputs": [],
   "source": [
    "def normalize_vector(vector):\n",
    "    norm = sum(a ** 2 for a in vector) ** 0.5\n",
    "    return [a / norm for a in vector]\n",
    "\n",
    "def dot_product(vec1, vec2):\n",
    "    return sum(a * b for a, b in zip(vec1, vec2))\n",
    "\n",
    "def subtract_matrices(mat1, mat2):\n",
    "    return [[a - b for a, b in zip(row1, row2)] for row1, row2 in zip(mat1, mat2)]\n",
    "\n",
    "def find_eigen(A, max_iterations=50000):\n",
    "    assert len(A) == 0 or all(isinstance(row, list) for row in A) and len(A) == len(A[0]), \"A should be a square matrix.\"\n",
    "\n",
    "    n = len(A)\n",
    "    if n == 0:\n",
    "        return [], []\n",
    "    if n == 1:\n",
    "        return [A[0][0]], [[1.]]\n",
    "\n",
    "    eigenvectors = []\n",
    "    eigenvalues = []\n",
    "\n",
    "    for _ in range(n):\n",
    "        eigvec = [1.0] * n  # Initialize with a simple vector\n",
    "        eigvec = normalize_vector(eigvec)\n",
    "\n",
    "        for _ in range(max_iterations):\n",
    "            tf_eigvec = [dot_product(row, eigvec) for row in A]\n",
    "            eigvec = normalize_vector(tf_eigvec)\n",
    "\n",
    "        eigval = dot_product(tf_eigvec, eigvec)\n",
    "        eigenvalues.append(eigval)\n",
    "        eigenvectors.append(eigvec)\n",
    "\n",
    "        eigenval_outer_product = [[a * b for b in eigvec] for a in tf_eigvec]\n",
    "        A = subtract_matrices(A, eigenval_outer_product)\n",
    "\n",
    "    return eigenvalues, [list(row) for row in zip(*eigenvectors)]\n"
   ]
  },
  {
   "cell_type": "markdown",
   "id": "1535323c",
   "metadata": {},
   "source": [
    "**3. Test your functions from a randomly generated $n \\times n$ matrix.**"
   ]
  },
  {
   "cell_type": "code",
   "execution_count": 9,
   "id": "0201996c",
   "metadata": {},
   "outputs": [
    {
     "name": "stdout",
     "output_type": "stream",
     "text": [
      "Matrix:\n",
      " [[4.17702314 4.0639323  4.03016278 3.42730606 2.36679024 0.52072567\n",
      "  3.88342386 3.8895354 ]\n",
      " [0.34383946 2.83257032 3.94939177 3.75161927 3.54892069 2.1664017\n",
      "  2.37407464 4.3921358 ]\n",
      " [0.76598432 2.7799864  3.08414078 4.10623266 4.24477405 2.14489233\n",
      "  3.68873636 2.11430925]\n",
      " [4.18334362 2.75596457 3.62613175 4.65856765 0.78257081 1.1323523\n",
      "  0.84335007 0.0274773 ]\n",
      " [3.76937907 4.60220689 3.70512872 1.97750392 0.26921933 2.66993505\n",
      "  4.06830733 3.43113447]\n",
      " [1.61711471 1.03971534 4.43270141 3.73033864 2.17978685 1.67848981\n",
      "  1.54117757 0.00581443]\n",
      " [0.563726   3.62840914 2.50471135 4.06916614 0.58042001 0.53865184\n",
      "  0.95874529 3.26075301]\n",
      " [2.33674871 3.61395389 4.59447041 0.72270956 1.76999457 1.25258252\n",
      "  4.32126019 1.93184757]] \n",
      "\n",
      "From Custom Determinant Func:\n",
      " None \n",
      "\n",
      "From Numpy Determinant:\n",
      " -7762.681112608337\n"
     ]
    }
   ],
   "source": [
    "import numpy as np\n",
    "\n",
    "def custom_det(matrix):\n",
    "    pass\n",
    "\n",
    "A = np.random.random((8, 8)) * 5\n",
    "\n",
    "custom_det_value = custom_det(A.tolist())\n",
    "numpy_det_value = np.linalg.det(A)\n",
    "\n",
    "print(\"Matrix:\\n\", A, \"\\n\\nFrom Custom Determinant Func:\\n\", custom_det_value, \"\\n\\nFrom Numpy Determinant:\\n\", numpy_det_value)\n"
   ]
  },
  {
   "cell_type": "markdown",
   "id": "4a92cac2",
   "metadata": {},
   "source": [
    "**Eigenvalue**"
   ]
  },
  {
   "cell_type": "code",
   "execution_count": 10,
   "id": "288f7fb4",
   "metadata": {},
   "outputs": [
    {
     "name": "stdout",
     "output_type": "stream",
     "text": [
      "Matrix:\n",
      " [[3.89129528 0.22592246 0.21107773]\n",
      " [4.35836706 1.29366177 1.90363061]\n",
      " [2.90941794 4.61632564 2.11733629]] \n",
      "\n",
      "From custom Eigen Func:\n",
      " None None \n",
      "\n",
      "From numpy Eigen:\n",
      " [ 5.65218875  2.91828935 -1.26818476] [[ 0.16767067  0.27247743 -0.0073152 ]\n",
      " [ 0.53056618 -0.32862785 -0.5883703 ]\n",
      " [ 0.83089474 -0.90430072  0.80855852]]\n"
     ]
    }
   ],
   "source": [
    "import numpy as np\n",
    "\n",
    "def find_eigen(matrix):\n",
    "    pass\n",
    "\n",
    "A = np.random.random((3, 3)) * 5\n",
    "\n",
    "np_ev, np_evl = np.linalg.eig(A)\n",
    "m_ev, m_evl = np.array(find_eigen(A.tolist())), np.array(find_eigen(A.tolist()))\n",
    "\n",
    "print(\"Matrix:\\n\", A, \"\\n\\nFrom custom Eigen Func:\\n\", m_ev, m_evl, \"\\n\\nFrom numpy Eigen:\\n\", np_ev, np_evl)\n"
   ]
  }
 ],
 "metadata": {
  "kernelspec": {
   "display_name": "Python 3 (ipykernel)",
   "language": "python",
   "name": "python3"
  },
  "language_info": {
   "codemirror_mode": {
    "name": "ipython",
    "version": 3
   },
   "file_extension": ".py",
   "mimetype": "text/x-python",
   "name": "python",
   "nbconvert_exporter": "python",
   "pygments_lexer": "ipython3",
   "version": "3.12.0"
  }
 },
 "nbformat": 4,
 "nbformat_minor": 5
}
